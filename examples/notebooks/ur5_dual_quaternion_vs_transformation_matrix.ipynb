{
 "cells": [
  {
   "cell_type": "code",
   "execution_count": null,
   "metadata": {},
   "outputs": [],
   "source": [
    "import casadi as cs\n",
    "import casclik as cc\n",
    "from urdf2casadi import converter, numpy_geom, casadi_geom\n",
    "import time\n",
    "\n",
    "# Plotting\n",
    "from matplotlib import pyplot as plt\n",
    "%matplotlib notebook\n",
    "import common_plots"
   ]
  },
  {
   "cell_type": "markdown",
   "metadata": {},
   "source": [
    "# Quaternion and Dual quaternion functions\n",
    "Let's convert some casadi_geom expressions into casadi functions so they work with MX variables"
   ]
  },
  {
   "cell_type": "code",
   "execution_count": null,
   "metadata": {},
   "outputs": [],
   "source": [
    "# Quaternions\n",
    "quat1 = cs.SX.sym(\"quat1\",4)\n",
    "quat2 = cs.SX.sym(\"quat2\",4)\n",
    "quaternion_product = cs.Function(\"quatprod\",[quat1,quat2],[casadi_geom.quaternion_product(quat1,quat2)])\n",
    "quaternion_conj = cs.Function(\"quatconj\", [quat1], [casadi_geom.quaternion_conj(quat1)])\n",
    "hamilton_operator_plus = cs.Function(\n",
    "    \"hamilton_operator_plus\",\n",
    "    [quat1],\n",
    "    [cs.vertcat(cs.horzcat(quat1[3], -quat1[2], quat1[1], quat1[0]),\n",
    "                cs.horzcat(quat1[2], quat1[3], -quat1[0], quat1[1]),\n",
    "                cs.horzcat(-quat1[1], quat1[0], quat1[3], quat1[2]),\n",
    "                cs.horzcat(-quat1[0], -quat1[1], -quat1[2], quat1[3]))])\n",
    "hamilton_operator_minus = cs.Function(\n",
    "    \"hamilton_operator_minus\",\n",
    "    [quat1],\n",
    "    [cs.vertcat(cs.horzcat(quat1[3], quat1[2], -quat1[1], quat1[0]),\n",
    "               cs.horzcat(-quat1[2], quat1[3], quat1[0], quat1[1]),\n",
    "               cs.horzcat(quat1[1], -quat1[0], quat1[3], quat1[2]),\n",
    "               cs.horzcat(-quat1[0], -quat1[1], -quat1[2], quat1[3]))])\n",
    "\n",
    "# Dual quaternions\n",
    "quat1 = cs.SX.sym(\"quat1\",8) # Dual quaternions\n",
    "quat2 = cs.SX.sym(\"quat2\",8)\n",
    "dual_quaternion_product = cs.Function(\"dualquatprod\", \n",
    "                                      [quat1,quat2], \n",
    "                                      [casadi_geom.dual_quaternion_product(quat1,quat2)])\n",
    "dual_quaternion_conj = cs.Function(\"dualquatconj\", \n",
    "                                   [quat1], \n",
    "                                   [casadi_geom.dual_quaternion_conj(quat1)])\n",
    "dual_quaternion_dualnorm = cs.Function(\"dualquatdualnorm\",\n",
    "                                       [quat1], \n",
    "                                       [casadi_geom.dual_quaternion_norm2(quat1)[0],casadi_geom.dual_quaternion_norm2(quat1)[1]])\n",
    "dual_quaternion_inv = cs.Function(\"dualquatinv\", \n",
    "                                  [quat1], \n",
    "                                  [casadi_geom.dual_quaternion_inv(quat1)])\n",
    "dual_quaternion_to_transformation_matrix = cs.Function(\"dualquat2transfmat\",\n",
    "                                                       [quat1],\n",
    "                                                       [casadi_geom.dual_quaternion_to_transformation_matrix(quat1)])\n",
    "dual_quaternion_to_pos = cs.Function(\"dualquat2pos\",\n",
    "                                    [quat1],\n",
    "                                    [casadi_geom.dual_quaternion_to_pos(quat1)])\n",
    "dual_hamilton_operator_plus = cs.Function(\n",
    "    \"dH_plus\",\n",
    "    [quat1],\n",
    "    [cs.vertcat(\n",
    "        cs.horzcat(quat1[3], -quat1[2], quat1[1], quat1[0], 0, 0, 0, 0),\n",
    "        cs.horzcat(quat1[2], quat1[3], -quat1[0], quat1[1], 0, 0, 0, 0),\n",
    "        cs.horzcat(-quat1[1], quat1[0], quat1[3], quat1[2], 0, 0, 0, 0),\n",
    "        cs.horzcat(-quat1[0], -quat1[1], -quat1[2], quat1[3], 0, 0, 0, 0),\n",
    "        cs.horzcat(quat1[7], -quat1[6], quat1[5], quat1[4], quat1[3], -quat1[2], quat1[1], quat1[0]),\n",
    "        cs.horzcat(quat1[6], quat1[7], -quat1[4], quat1[5], quat1[2], quat1[3], -quat1[0], quat1[1]),\n",
    "        cs.horzcat(-quat1[5], quat1[4], quat1[7], quat1[6], -quat1[1], quat1[0], quat1[3], quat1[2]),\n",
    "        cs.horzcat(-quat1[4], -quat1[5], -quat1[6], quat1[7], -quat1[0], -quat1[1], -quat1[2], quat1[3])\n",
    "    )]\n",
    ")\n",
    "dual_hamilton_operator_minus = cs.Function(\n",
    "    \"dH_minus\",\n",
    "    [quat1],\n",
    "    [cs.vertcat(\n",
    "        cs.horzcat(quat1[3], quat1[2], -quat1[1], quat1[0], 0, 0, 0, 0),\n",
    "        cs.horzcat(-quat1[2], quat1[3], quat1[0], quat1[1], 0, 0, 0, 0),\n",
    "        cs.horzcat(quat1[1], -quat1[0], quat1[3], quat1[2], 0, 0, 0, 0),\n",
    "        cs.horzcat(-quat1[0], -quat1[1], -quat1[2], quat1[3], 0, 0, 0, 0),\n",
    "        cs.horzcat(quat1[7], quat1[6], -quat1[5], quat1[4], quat1[3], quat1[2], -quat1[1], quat1[0]),\n",
    "        cs.horzcat(-quat1[6], quat1[7], quat1[4], quat1[5], -quat1[2], quat1[3], quat1[0], quat1[1]),\n",
    "        cs.horzcat(quat1[5], -quat1[4], quat1[7], quat1[6], quat1[1], -quat1[0], quat1[3], quat1[2]),\n",
    "        cs.horzcat(-quat1[4], -quat1[5], -quat1[6], quat1[7], -quat1[0], -quat1[1], -quat1[2], quat1[3])\n",
    "    )]\n",
    ")\n",
    "# Roll pitch yaw Euler angles\n",
    "xyz=cs.SX.sym(\"xyz\",3)\n",
    "rpy=cs.SX.sym(\"rpy\",3)\n",
    "dual_quaternion_rpy = cs.Function(\"dualquatrpy\",\n",
    "                                  [rpy],\n",
    "                                 [casadi_geom.dual_quaternion_rpy(rpy)])\n",
    "dual_quaternion_xyz = cs.Function(\"dualquatxyz\",\n",
    "                                 [xyz],\n",
    "                                 [casadi_geom.dual_quaternion_translation(xyz)])\n",
    "\n",
    "# Axis angle\n",
    "axis = cs.SX.sym(\"axis\",3)\n",
    "ang = cs.SX.sym(\"ang\")\n",
    "dual_quaternion_axis_translation = cs.Function(\"dualquataxistransl\",\n",
    "                                              [axis, ang],\n",
    "                                              [casadi_geom.dual_quaternion_axis_translation(axis,ang)])\n",
    "dual_quaternion_axis_rotation = cs.Function(\"dualquataxisrot\",\n",
    "                                           [axis, ang],\n",
    "                                           [casadi_geom.dual_quaternion_axis_rotation(axis,ang)])"
   ]
  },
  {
   "cell_type": "markdown",
   "metadata": {},
   "source": [
    "# UR5 - Dual Quaternion or Transformation Matrix representation\n",
    "Transformation matrices are a 16 element representation of the transformation between frames, with 12 unique elements. This represents the transformation as a rotation matrix and a displacement vector. Usually in robotics one follows the convention of first translating then rotating to match frames. Another representation is dual quaternions, they use two quaternions to represent the rotation and displacement of transformations and use 8 elements to describe the same transformation. In this example we will try to move from the HOME position to a desired frame, then later from a random frame to a random frame."
   ]
  },
  {
   "cell_type": "code",
   "execution_count": null,
   "metadata": {},
   "outputs": [],
   "source": [
    "t = cs.MX.sym(\"t\")\n",
    "q = cs.MX.sym(\"q\",6) # six actuated joints\n",
    "dq = cs.MX.sym(\"dq\",6)\n",
    "UR5_home = [0.0, -cs.np.pi/2, 0.0, -cs.np.pi/2, 0.0, 0.0]"
   ]
  },
  {
   "cell_type": "markdown",
   "metadata": {},
   "source": [
    "## Get forward kinematics\n",
    "The converter creates a kinematic chain from a specific root link to an end link. Running `check_urdf` on the file, we find that the UR5 contains the links:\n",
    "```\n",
    "root Link: world has 1 child(ren)\n",
    "    child(1):  base_link\n",
    "        child(1):  base\n",
    "        child(2):  shoulder_link\n",
    "            child(1):  upper_arm_link\n",
    "                child(1):  forearm_link\n",
    "                    child(1):  wrist_1_link\n",
    "                        child(1):  wrist_2_link\n",
    "                            child(1):  wrist_3_link\n",
    "                                child(1):  ee_link\n",
    "                                child(2):  tool0\n",
    "```\n",
    "Let's set up the forward kinematics:"
   ]
  },
  {
   "cell_type": "code",
   "execution_count": null,
   "metadata": {},
   "outputs": [],
   "source": [
    "urdf_path = \"./urdf/ur5.urdf\"\n",
    "links = [\"world\", \n",
    "         \"base_link\", \n",
    "         \"base\", \n",
    "         \"shoulder_link\", \n",
    "         \"upper_arm_link\", \n",
    "         \"forearm_link\", \n",
    "         \"wrist_1_link\", \n",
    "         \"wrist_2_link\", \n",
    "         \"wrist_3_link\", \n",
    "         \"tool0\"]\n",
    "fk_dict = converter.from_file(root=\"base_link\", tip=\"tool0\", filename=urdf_path)"
   ]
  },
  {
   "cell_type": "code",
   "execution_count": null,
   "metadata": {},
   "outputs": [],
   "source": [
    "print(str(fk_dict[\"joint_names\"]))"
   ]
  },
  {
   "cell_type": "code",
   "execution_count": null,
   "metadata": {},
   "outputs": [],
   "source": [
    "# Setup the function for the dual quaternion of the forward kinematics:\n",
    "Q_fk = fk_dict[\"dual_quaternion_fk\"]\n",
    "# Setup the function for the transformation matrix of the forward kinematics:\n",
    "T_fk = fk_dict[\"T_fk\"]"
   ]
  },
  {
   "cell_type": "code",
   "execution_count": null,
   "metadata": {},
   "outputs": [],
   "source": [
    "# Test transformation matrix:\n",
    "Q0 = Q_fk(UR5_home)\n",
    "T0 = numpy_geom.dual_quaternion_to_transformation_matrix(Q0.toarray())\n",
    "print(\"Distance to UR5_pome pos with dual quaternions: \"+str(cs.norm_2(T0[:3,3])))\n",
    "\n",
    "# Test transformation matrix:\n",
    "T0 = T_fk(UR5_home)\n",
    "print(\"Distance to UR5Home pos with transformation matrices: \"+str(cs.norm_2(T0[:3,3])))"
   ]
  },
  {
   "cell_type": "code",
   "execution_count": null,
   "metadata": {},
   "outputs": [],
   "source": []
  },
  {
   "cell_type": "markdown",
   "metadata": {},
   "source": [
    "## UR5 Limits\n",
    "To achieve reasonable simulations, we impose some realistic limits on the robot. We grab the joint limits from the URDF and choose a reasonable max speed."
   ]
  },
  {
   "cell_type": "code",
   "execution_count": null,
   "metadata": {},
   "outputs": [],
   "source": [
    "# Check the joint limits from the URDF:\n",
    "q_max = cs.np.array(fk_dict[\"upper\"])\n",
    "q_min = cs.np.array(fk_dict[\"lower\"])\n",
    "print(\"q_min \",str(q_min))\n",
    "print(\"q_max \",str(q_max))\n",
    "\n",
    "# Define a reasonable max joint speed\n",
    "max_speed = cs.np.pi/5 # rad/s\n",
    "print(\"Max speed: \", max_speed)\n",
    "dt = 0.008"
   ]
  },
  {
   "cell_type": "code",
   "execution_count": null,
   "metadata": {},
   "outputs": [],
   "source": [
    "# Define the basic system limits\n",
    "# Uphold the joint constraints\n",
    "joint_limits_cnstr = cc.SetConstraint(\n",
    "    label=\"Joint_Limits\",\n",
    "    expression = q,\n",
    "    set_min = q_min,\n",
    "    set_max = q_max)\n",
    "\n",
    "# Listify the joint limits constraints for pseudoinverse, starting with the lowest\n",
    "joint_limits_cnstr_list = []\n",
    "for i in range(q.size()[0]):\n",
    "    joint_limits_cnstr_list.append(\n",
    "    cc.SetConstraint(label=\"limit_q_\"+str(i),\n",
    "                     expression=q[i],\n",
    "                     set_min = q_min[i],\n",
    "                     set_max = q_max[i],\n",
    "                    priority = i))\n",
    "\n",
    "# Let's have some speed limit\n",
    "joint_speed_limits_cnstr = cc.VelocitySetConstraint(\n",
    "    label=\"Joint_speed_limits\",\n",
    "    expression = q,\n",
    "    set_min = -cs.vertcat([max_speed]*q.size()[0]),\n",
    "    set_max = cs.vertcat([max_speed]*q.size()[0]))"
   ]
  },
  {
   "cell_type": "markdown",
   "metadata": {},
   "source": [
    "## Move from home to frame\n",
    "In this section we will move from the HOME position to a desired frame. There are multiple methods of representing a constraint that could achieve this, and we will investigate two for each representation."
   ]
  },
  {
   "cell_type": "code",
   "execution_count": null,
   "metadata": {},
   "outputs": [],
   "source": [
    "# Desired frame\n",
    "rpy = [\n",
    "    5.*(cs.np.pi/180.0),#5.*(cs.np.pi/180.0),\n",
    "    0.*(cs.np.pi/180.0),#0.5*cs.np.pi,\n",
    "    0.*(cs.np.pi/180.0)\n",
    "]\n",
    "xyz = [\n",
    "    0.5,\n",
    "    0.0,\n",
    "    0.5\n",
    "]\n",
    "# As a dual quaternion\n",
    "Q_des = numpy_geom.dual_quaternion_revolute(xyz, rpy, # cartesian and euler angles\n",
    "                                            [1,0,0],0.0) # If we wanted an extra axis-angle rotation afterwards\n",
    "# As a transformation matrix\n",
    "\n",
    "T_des = cs.np.eye(4) \n",
    "T_des[:3,:3] = numpy_geom.rotation_rpy(*rpy)\n",
    "T_des[:3,3] = xyz # Some desired position "
   ]
  },
  {
   "cell_type": "markdown",
   "metadata": {},
   "source": [
    "### Constraint representations - Dual quaternion"
   ]
  },
  {
   "cell_type": "code",
   "execution_count": null,
   "metadata": {},
   "outputs": [],
   "source": [
    "# Deviation from identity\n",
    "Q_id = numpy_geom.dual_quaternion_revolute([0.,0.,0.],[0.,0.,0.],[1.,0.,0.],0.0)\n",
    "Q_dist1 = dual_quaternion_product(Q_fk(q),dual_quaternion_conj(Q_des)) - Q_id\n",
    "Q_dist1_cnstr = cc.EqualityConstraint(\n",
    "    label=\"Q_dist1_cnstr\",\n",
    "    expression=Q_dist1,\n",
    "    constraint_type=\"soft\",\n",
    "    gain = 10.0,\n",
    "    priority=301\n",
    ")\n",
    "Q_dist1_cnstr.eval = cs.Function(\"Q_dist1\",[t,q],[cs.norm_2(Q_dist1)])\n",
    "\n",
    "Hm = dual_hamilton_operator_minus(Q_des)\n",
    "Cconj = cs.diag([-1,-1,-1,1,-1,-1,-1,1])\n",
    "Q_dist2 = cs.mtimes(Hm, cs.mtimes(Cconj, Q_des-Q_fk(q)))\n",
    "Q_dist2_cnstr = cc.EqualityConstraint(\n",
    "    label=\"Q_dist2_cnstr\",\n",
    "    expression=Q_dist2,\n",
    "    constraint_type=\"soft\",\n",
    "    gain=10.0,\n",
    "    priority=301\n",
    ")\n",
    "Q_dist2_cnstr.eval = cs.Function(\"Q_dist2\",[t,q], [cs.norm_2(Q_dist2)])"
   ]
  },
  {
   "cell_type": "markdown",
   "metadata": {},
   "source": [
    "### Constraint representations - Transformation matrix"
   ]
  },
  {
   "cell_type": "code",
   "execution_count": null,
   "metadata": {},
   "outputs": [],
   "source": [
    "# Deviation from identity\n",
    "T_dist1_cnstr = cc.EqualityConstraint(\n",
    "    label=\"T_dist1\",\n",
    "    expression=cs.norm_fro(cs.mtimes(cs.inv(T_des),T_fk(q))-cs.np.eye(4)),\n",
    "    gain=10.0,\n",
    "    constraint_type=\"soft\",\n",
    "    priority=301\n",
    ")\n",
    "T_dist1_cnstr.eval = cs.Function(\"f_T_dist1\", [t,q],[T_dist1_cnstr.expression])\n",
    "\n",
    "# Frobenius norm of rotation deviation from identity, Position deviation\n",
    "T_dist2_cnstr = cc.EqualityConstraint(\n",
    "    label=\"T_dist2\",\n",
    "    expression = cs.vertcat(T_fk(q)[:3,3]-T_des[:3,3], \n",
    "                            cs.norm_fro(cs.mtimes(cs.inv(T_des[:3,:3]),T_fk(q)[:3,:3]) - cs.np.eye(3))),\n",
    "    gain = 10.0,\n",
    "    constraint_type = \"soft\",\n",
    "    priority = 300\n",
    ")\n",
    "T_dist2_cnstr.eval = cs.Function(\"f_T_dist2\", [t,q], [cs.norm_2(T_dist2_cnstr.expression)])\n",
    "\n",
    "# Three point strategy\n",
    "T_dist3_cnstr = cc.EqualityConstraint(\n",
    "    label=\"T_dist3\",\n",
    "    expression = cs.vertcat(T_fk(q)[0, :3].T + T_fk(q)[:3,3] - T_des[0, :3] - T_des[:3,3],\n",
    "                            T_fk(q)[1, :3].T + T_fk(q)[:3,3] - T_des[1, :3] - T_des[:3,3],\n",
    "                            T_fk(q)[2, :3].T + T_fk(q)[:3,3] - T_des[2, :3] - T_des[:3,3]),\n",
    "    gain=10.0,\n",
    "    constraint_type= \"soft\",\n",
    "    priority=300\n",
    ")\n",
    "T_dist3_cnstr.eval = cs.Function(\"f_T_dist3\", [t,q], [cs.norm_2(T_dist3_cnstr.expression)])"
   ]
  },
  {
   "cell_type": "markdown",
   "metadata": {},
   "source": [
    "### Compiling the controllers for all constraint situations"
   ]
  },
  {
   "cell_type": "code",
   "execution_count": null,
   "metadata": {},
   "outputs": [],
   "source": [
    "# Let's test all the available controllers\n",
    "controller_classes = {\n",
    "    \"qp\":cc.ReactiveQPController, \n",
    "    \"nlp\":cc.ReactiveNLPController, \n",
    "    \"pinv\":cc.PseudoInverseController,\n",
    "    \"mpc\":cc.ModelPredictiveController\n",
    "}\n",
    "controllers = {}\n",
    "for key in controller_classes.keys():\n",
    "    controllers[key] = {}"
   ]
  },
  {
   "cell_type": "code",
   "execution_count": null,
   "metadata": {},
   "outputs": [],
   "source": [
    "cnstr_situations={\n",
    "    \"Q_dist1\":Q_dist1_cnstr, \n",
    "    \"Q_dist2\":Q_dist2_cnstr,\n",
    "    \"T_dist1\":T_dist1_cnstr,\n",
    "    \"T_dist2\":T_dist2_cnstr,\n",
    "    \"T_dist3\":T_dist3_cnstr}\n",
    "print cnstr_situations.keys()"
   ]
  },
  {
   "cell_type": "code",
   "execution_count": null,
   "metadata": {},
   "outputs": [],
   "source": [
    "# Compile all the controllers for each situation\n",
    "for cnstr in cnstr_situations.keys():\n",
    "    print(\"Compiling constraint: \"+str(cnstr))\n",
    "    for key in controllers.keys():\n",
    "        if key == \"pinv\":\n",
    "            #constraints = joint_limits_cnstr_list + [cnstr_situations[cnstr]]\n",
    "            #constraints = [joint_limits_cnstr, cnstr_situations[cnstr]]\n",
    "            constraints = [cnstr_situations[cnstr]]\n",
    "        else:\n",
    "            #constraints = [joint_limits_cnstr, joint_speed_limits_cnstr, cnstr_situations[cnstr]]\n",
    "            constraints = [joint_limits_cnstr, cnstr_situations[cnstr]]\n",
    "            #constraints = [cnstr_situations[cnstr]]\n",
    "        skill_spec = cc.SkillSpecification(\n",
    "            label=cnstr+\"_skill\",\n",
    "            time_var=t,\n",
    "            robot_var=q,\n",
    "            constraints=constraints\n",
    "        )\n",
    "        t0 = time.time()\n",
    "        if key == \"mpc\":\n",
    "            controllers[key][cnstr] = controller_classes[key](skill_spec=skill_spec,\n",
    "                                                              horizon_length=10, timestep=dt)\n",
    "        else:\n",
    "            controllers[key][cnstr] = controller_classes[key](skill_spec=skill_spec)\n",
    "        if key == \"pinv\":\n",
    "            controllers[key][cnstr].options[\"multidim_sets\"] = True\n",
    "            controllers[key][cnstr].options[\"pinv_method\"] = \"damped\"\n",
    "            controllers[key][cnstr].options[\"damping_factor\"] = 1e-26\n",
    "        controllers[key][cnstr].setup_problem_functions()\n",
    "        controllers[key][cnstr].setup_solver()\n",
    "        print(\"\\t-\"+str(key)+\", compile time: \"+str(time.time()-t0))"
   ]
  },
  {
   "cell_type": "code",
   "execution_count": null,
   "metadata": {},
   "outputs": [],
   "source": [
    "timesteps = 1000\n",
    "# Run all simulations\n",
    "for cntr_key in controllers.keys():\n",
    "    print(\"Simulating controller: \"+str(cntr_key))\n",
    "    for cnstr_key in cnstr_situations.keys():\n",
    "        print(\"\\t-\"+str(cnstr_key))\n",
    "        print(\"\\t\\tSetting up initial value problem\")\n",
    "        controllers[cntr_key][cnstr_key].setup_initial_problem_solver()\n",
    "        print(\"\\t\\tSolving initial value problem\")\n",
    "        slack_res = controllers[cntr_key][cnstr_key].solve_initial_problem(0,UR5_home)[-1]\n",
    "        t0 = time.time()\n",
    "        # Simulate it!\n",
    "        t_sim = cs.np.array([dt*i for i in range(timesteps+1)])\n",
    "        t_run_sim = cs.np.array([dt*i for i in range(timesteps)])\n",
    "        # Robot\n",
    "        q_sim = cs.np.zeros((len(t_sim),q.shape[0]))\n",
    "        q_sim[0,:] = UR5_home\n",
    "        dq_sim = cs.np.zeros((len(t_sim),dq.shape[0]))\n",
    "        # Cartesian position\n",
    "        p_sim = cs.np.zeros((len(t_sim), 3))\n",
    "        p_sim[0,:] = T_fk(UR5_home)[:3,3].toarray()[:,0]\n",
    "        # Rotation\n",
    "        R_sim = cs.np.zeros((len(t_sim), 3, 3))\n",
    "        R_sim[0,:,:] = T_fk(UR5_home)[:3,:3].toarray()\n",
    "        # Error in constraint\n",
    "        e_sim = cs.np.zeros(len(t_sim))\n",
    "        e_sim[0] = cnstr_situations[cnstr_key].eval(t_sim[0],q_sim[0,:])\n",
    "        # Loop\n",
    "        for i in range(len(t_sim) - 1):\n",
    "            t_run0 = time.time()\n",
    "            res = controllers[cntr_key][cnstr_key].solve(t_sim[i],q_sim[i,:],warmstart_slack_var=slack_res)\n",
    "            t_run_sim[i] = time.time() - t_run0\n",
    "            dq_sim[i,:] = res[0].toarray()[:,0]\n",
    "            if res[-1] is not None:\n",
    "                slack_res = res[-1].toarray()[:,0]\n",
    "            for idx, dqi in enumerate(dq_sim[i,:]):\n",
    "                dq_sim[i,idx] = max(min(dqi,max_speed),-max_speed)\n",
    "            q_sim[i+1,:] = q_sim[i,:] + dq_sim[i,:]*dt\n",
    "            p_sim[i+1,:] = T_fk(q_sim[i+1,:])[:3,3].toarray()[:,0]\n",
    "            R_sim[i+1,:,:] = T_fk(q_sim[i+1,:])[:3,:3].toarray()\n",
    "            e_sim[i+1] = cnstr_situations[cnstr_key].eval(t_sim[i],q_sim[i+1,:])\n",
    "        controllers[cntr_key][str(cnstr_key)+\"_res\"] = {\n",
    "            \"t_sim\":t_sim,\n",
    "            \"dq_sim\": dq_sim,\n",
    "            \"q_sim\": q_sim,\n",
    "            \"p_sim\": p_sim,\n",
    "            \"R_sim\": R_sim,\n",
    "            \"e_sim\": e_sim,\n",
    "            \"t_run_sim\": t_run_sim\n",
    "        }\n",
    "        print(\"\\t\\tRuntime: \"+str(time.time()-t0))"
   ]
  },
  {
   "cell_type": "markdown",
   "metadata": {},
   "source": [
    "### Error plots"
   ]
  },
  {
   "cell_type": "code",
   "execution_count": null,
   "metadata": {},
   "outputs": [],
   "source": [
    "fig, ax = plt.subplots()\n",
    "for name in controllers.keys():\n",
    "    ax.plot(controllers[name][\"Q_dist1_res\"][\"t_sim\"],\n",
    "            controllers[name][\"Q_dist1_res\"][\"e_sim\"],\n",
    "            label=name)\n",
    "ax.legend()\n",
    "ax.set_xlabel(\"t [s]\")\n",
    "ax.set_ylabel(\"error\")\n",
    "ax.set_yscale(\"log\")\n",
    "ax.set_title(\"Q\\_dist1\")"
   ]
  },
  {
   "cell_type": "code",
   "execution_count": null,
   "metadata": {},
   "outputs": [],
   "source": [
    "import nice_plotting\n",
    "nice_plotting.latexify(fig_width=3.5,fig_height=1.4)\n",
    "fig, ax = plt.subplots()\n",
    "for name in controllers.keys():\n",
    "    ax.plot(controllers[name][\"Q_dist2_res\"][\"t_sim\"],\n",
    "            controllers[name][\"Q_dist2_res\"][\"e_sim\"],\n",
    "            label=name)\n",
    "ax.legend()\n",
    "ax.set_xlabel(\"t [s]\")\n",
    "ax.set_ylabel(\"${e}_Q$\")\n",
    "ax.set_yscale(\"log\")\n",
    "nice_plotting.format_axes(ax)\n",
    "plt.savefig(\"e_Q_error.pdf\",bbox_inches=\"tight\")"
   ]
  },
  {
   "cell_type": "code",
   "execution_count": null,
   "metadata": {},
   "outputs": [],
   "source": [
    "fig, ax = plt.subplots()\n",
    "for name in controllers.keys():\n",
    "    ax.plot(controllers[name][\"T_dist1_res\"][\"t_sim\"],\n",
    "            controllers[name][\"T_dist1_res\"][\"e_sim\"],\n",
    "            label=name)\n",
    "ax.legend()\n",
    "ax.set_xlabel(\"t [s]\")\n",
    "ax.set_ylabel(\"error\")\n",
    "ax.set_yscale(\"log\")\n",
    "ax.set_title(\"T\\_dist1\")"
   ]
  },
  {
   "cell_type": "code",
   "execution_count": null,
   "metadata": {},
   "outputs": [],
   "source": [
    "nice_plotting.latexify(fig_width=3.5,fig_height=1.4)\n",
    "fig, ax = plt.subplots()\n",
    "for name in controllers.keys():\n",
    "    ax.plot(controllers[name][\"T_dist2_res\"][\"t_sim\"],\n",
    "            controllers[name][\"T_dist2_res\"][\"e_sim\"],\n",
    "            label=name)\n",
    "ax.legend()\n",
    "ax.set_xlabel(\"t [s]\")\n",
    "ax.set_ylabel(\"${e}_T$\")\n",
    "ax.set_yscale(\"log\")\n",
    "nice_plotting.format_axes(ax)\n",
    "plt.savefig(\"e_T_error.pdf\",bbox_inches=\"tight\")"
   ]
  },
  {
   "cell_type": "code",
   "execution_count": null,
   "metadata": {},
   "outputs": [],
   "source": [
    "fig, ax = plt.subplots()\n",
    "for name in controllers.keys():\n",
    "    ax.plot(controllers[name][\"T_dist3_res\"][\"t_sim\"],\n",
    "            controllers[name][\"T_dist3_res\"][\"e_sim\"],\n",
    "            label=name)\n",
    "ax.legend()\n",
    "ax.set_xlabel(\"t [s]\")\n",
    "ax.set_ylabel(\"error\")\n",
    "ax.set_yscale(\"log\")\n",
    "ax.set_title(\"T\\_dist3\")"
   ]
  },
  {
   "cell_type": "markdown",
   "metadata": {},
   "source": [
    "### Seeing the paths\n",
    "The black line is the end-effector position, the red line is 0.1 in x direction from the end-effector center, green is y and blue is z."
   ]
  },
  {
   "cell_type": "code",
   "execution_count": null,
   "metadata": {},
   "outputs": [],
   "source": [
    "%matplotlib notebook\n",
    "nice_plotting.latexify(fig_width=3.5)\n",
    "ax = common_plots.frame_3d(controllers[\"qp\"][\"Q_dist2_res\"],T_des=T_des)\n",
    "#ax.set_title(\"QP($e_Q$)\")\n",
    "ax.set_xlim([-0.5, 1.])\n",
    "ax.set_ylim([-0.5, 1.])\n",
    "ax.set_zlim([0., 1])\n",
    "ax.set_zlabel(\"z [m]\")\n",
    "#nice_plotting.format_axes(ax)\n",
    "plt.savefig(\"e_Q_traj.pdf\",bbox_inches=\"tight\",pad_inches=0.25)"
   ]
  },
  {
   "cell_type": "code",
   "execution_count": null,
   "metadata": {},
   "outputs": [],
   "source": [
    "nice_plotting.latexify(fig_width=3.5)\n",
    "ax = common_plots.frame_3d(controllers[\"qp\"][\"T_dist2_res\"],T_des=T_des)\n",
    "#ax.set_title(\"QP($e_Q$)\")\n",
    "ax.set_xlim([-0.5, 1.])\n",
    "ax.set_ylim([-0.5, 1.])\n",
    "ax.set_zlim([0., 1])\n",
    "ax.set_zlabel(\"z [m]\")\n",
    "#nice_plotting.format_axes(ax)\n",
    "plt.savefig(\"e_T_traj.pdf\",bbox_inches=\"tight\", pad_inches=0.25)"
   ]
  },
  {
   "cell_type": "code",
   "execution_count": null,
   "metadata": {},
   "outputs": [],
   "source": [
    "ax = common_plots.frame_3d(controllers[\"pinv\"][\"Q_dist2_res\"],T_des=T_des)\n",
    "ax.set_title(\"PINV(Q\\_dist2)\")"
   ]
  },
  {
   "cell_type": "code",
   "execution_count": null,
   "metadata": {
    "scrolled": true
   },
   "outputs": [],
   "source": [
    "ax = common_plots.frame_3d(controllers[\"pinv\"][\"T_dist2_res\"],T_des=T_des)\n",
    "ax.set_title(\"PINV(T\\_dist2)\")"
   ]
  },
  {
   "cell_type": "code",
   "execution_count": null,
   "metadata": {},
   "outputs": [],
   "source": [
    "def ms_format(t):\n",
    "    return \"{:.2f} ms\".format(1000.0*t)    \n",
    "for cnstr_key in cnstr_situations.keys():\n",
    "    print(\"Constraint: \"+str(cnstr_key))\n",
    "    for cntrl_key in controllers.keys():\n",
    "        print(\"\\tController: \"+str(cntrl_key))\n",
    "        print(\"\\t\\tInitial: \"+ms_format(controllers[cntrl_key][cnstr_key+\"_res\"][\"t_run_sim\"][0]))\n",
    "        print(\"\\t\\tAverage: \"+ms_format(cs.np.mean(controllers[cntrl_key][cnstr_key+\"_res\"][\"t_run_sim\"])))"
   ]
  },
  {
   "cell_type": "code",
   "execution_count": null,
   "metadata": {},
   "outputs": [],
   "source": [
    "def ms_format(t):\n",
    "    return\"{:.2f} ms\".format(1000.0*t)\n",
    "cntrllrs_tab = [\"pinv\",\"qp\",\"nlp\",\"mpc\"]\n",
    "tab_str = \"& PINV & QP & NLPC & MPC\\\\\\\\ \\n\\midrule\\n\"\n",
    "tab_str += \"Initial ($\\\\bm{e}_Q$)\"\n",
    "for cntrl_key in cntrllrs_tab:\n",
    "    tab_str += \"& \"+ms_format(controllers[cntrl_key][\"Q_dist2_res\"][\"t_run_sim\"][0])\n",
    "tab_str += \"\\\\\\\\\\n\"\n",
    "tab_str += \"Average ($\\\\bm{e}_Q$)\"\n",
    "for cntrl_key in cntrllrs_tab:\n",
    "    tab_str += \"& \"+ms_format(cs.np.mean(controllers[cntrl_key][\"Q_dist2_res\"][\"t_run_sim\"]))\n",
    "tab_str += \"\\\\\\\\\\n\"\n",
    "tab_str += \"Initial ($\\\\bm{e}_T$)\"\n",
    "for cntrl_key in cntrllrs_tab:\n",
    "    tab_str += \"& \"+ms_format(controllers[cntrl_key][\"T_dist2_res\"][\"t_run_sim\"][0])\n",
    "tab_str += \"\\\\\\\\\\n\"\n",
    "tab_str += \"Average ($\\\\bm{e}_T$)\"\n",
    "for cntrl_key in cntrllrs_tab:\n",
    "    tab_str += \"& \"+ms_format(cs.np.mean(controllers[cntrl_key][\"T_dist2_res\"][\"t_run_sim\"]))\n",
    "print(tab_str)"
   ]
  },
  {
   "cell_type": "code",
   "execution_count": null,
   "metadata": {},
   "outputs": [],
   "source": []
  }
 ],
 "metadata": {
  "kernelspec": {
   "display_name": "Python 2",
   "language": "python",
   "name": "python2"
  },
  "language_info": {
   "codemirror_mode": {
    "name": "ipython",
    "version": 2
   },
   "file_extension": ".py",
   "mimetype": "text/x-python",
   "name": "python",
   "nbconvert_exporter": "python",
   "pygments_lexer": "ipython2",
   "version": "2.7.12"
  }
 },
 "nbformat": 4,
 "nbformat_minor": 2
}

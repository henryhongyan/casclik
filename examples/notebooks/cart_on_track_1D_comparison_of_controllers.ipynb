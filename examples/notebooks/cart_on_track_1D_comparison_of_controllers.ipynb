{
 "cells": [
  {
   "cell_type": "code",
   "execution_count": 1,
   "metadata": {},
   "outputs": [],
   "source": [
    "# Our stuff:\n",
    "import casclik as cc\n",
    "import casadi as cs\n",
    "# Plotting\n",
    "from matplotlib import pyplot as plt\n",
    "%matplotlib inline"
   ]
  },
  {
   "cell_type": "markdown",
   "metadata": {},
   "source": [
    "# Simple 1-D Example: Moving cart"
   ]
  },
  {
   "cell_type": "markdown",
   "metadata": {},
   "source": [
    "In this example we have a cart moving along a track, and we control the speed it has along the track.\n",
    "Position of the cart along the track: $p(t)=\\int_{\\tau=0}^t\\dot{p}(\\tau)\\mathrm{d}{\\tau}$.\n",
    "\n",
    "We will:\n",
    "1. Move to a point, to learn the basics\n",
    "2. Follow a trajectory, to see things work with a time dependence\n",
    "3. Follow a path, to learn about virtual variables\n",
    "\n"
   ]
  },
  {
   "cell_type": "code",
   "execution_count": 2,
   "metadata": {},
   "outputs": [],
   "source": [
    "t = cs.MX.sym(\"t\") # Symbol for time \n",
    "p = cs.MX.sym(\"p\") # Symbol for the cart point\n",
    "dp = cs.MX.sym(\"dp\") # Derivative of p\n",
    "\n",
    "# WARNING!\n",
    "# Animations take quite some time to create, and the code may stop for a couple of minutes at the animations\n",
    "SHOW_ANIMATIONS = False"
   ]
  },
  {
   "cell_type": "markdown",
   "metadata": {},
   "source": [
    "## Moving to a point"
   ]
  },
  {
   "cell_type": "markdown",
   "metadata": {},
   "source": [
    "The point we want to move to is: $p_{des}$, we'll call `p_des`. Let's say the track is from 0.0 to 1.0 m and we can move at a speed of at most 0.275 m/s (0.99 km/h) back and forth.\n",
    "How about we try to move to a point along the track?"
   ]
  },
  {
   "cell_type": "code",
   "execution_count": 3,
   "metadata": {},
   "outputs": [
    {
     "name": "stdout",
     "output_type": "stream",
     "text": [
      "SkillSpecification: move_to_point_skill\n",
      "#0: min_dist_cnstr\n",
      "#1: cart_limit_cnstr\n",
      "#2: speed_limit_cnstr\n",
      "N constraints: 3\n",
      "N equality:\n",
      "\tPos:1\tVel:0\n",
      "N set:\n",
      "\tPos:1\tVel:1\n"
     ]
    }
   ],
   "source": [
    "p_des = 0.75  # Desired point\n",
    "max_speed = 0.275 # Max speed allowed in either direction\n",
    "min_p = 0.0\n",
    "max_p = 1.0 \n",
    "# Setup the constraint to get there\n",
    "dist_to_point = p_des - p\n",
    "min_dist_cnstr = cc.EqualityConstraint(\n",
    "    label=\"min_dist_cnstr\", # Label for nice printing\n",
    "    expression=dist_to_point, # Expression to be minimized\n",
    "    gain=1.0, # Convergence gain\n",
    "    constraint_type=\"soft\", # The speed limit is hard, so this has to be soft to accommodate (sets whether to use slack)\n",
    "    priority=1) # Priority when using pseudo inverse approaches\n",
    "\n",
    "# Setup the cart length limits:\n",
    "point = p\n",
    "cart_limit_cnstr = cc.SetConstraint(\n",
    "    label=\"cart_limit_cnstr\",\n",
    "    expression=point,\n",
    "    gain=1.0,\n",
    "    set_min=min_p,\n",
    "    set_max=max_p)\n",
    "# Setup the speed limits:\n",
    "speed =  p\n",
    "speed_limit_cnstr = cc.VelocitySetConstraint(\n",
    "    label=\"speed_limit_cnstr\",\n",
    "    expression=speed,\n",
    "    gain=10.0,\n",
    "    set_min=-max_speed,\n",
    "    set_max=max_speed)\n",
    "point_skill = cc.SkillSpecification(\n",
    "    label=\"move_to_point_skill\", # Label for nice printing\n",
    "    time_var=t, # the time var\n",
    "    robot_var=p,\n",
    "    robot_vel_var=dp, \n",
    "    constraints=[min_dist_cnstr, \n",
    "                 cart_limit_cnstr, \n",
    "                 speed_limit_cnstr])\n",
    "point_skill.print_constraints() # Print some info about the constraints"
   ]
  },
  {
   "cell_type": "markdown",
   "metadata": {},
   "source": [
    "### Reactive QP approach"
   ]
  },
  {
   "cell_type": "code",
   "execution_count": 4,
   "metadata": {},
   "outputs": [],
   "source": [
    "# Create the controller:\n",
    "reactiveQPcntrllr = cc.ReactiveQPController(\n",
    "    skill_spec=point_skill, # The skill to execute\n",
    "    robot_var_weights=[1.0]) # The weights in the QP, defaults to 1.0\n",
    "# Setup the things in the controller:\n",
    "reactiveQPcntrllr.setup_problem_functions() # This sets up the functions, compiles them\n",
    "reactiveQPcntrllr.setup_solver() # This sets up the solver itself\n",
    "# Eventually these two will be combined"
   ]
  },
  {
   "cell_type": "code",
   "execution_count": 5,
   "metadata": {},
   "outputs": [
    {
     "name": "stdout",
     "output_type": "stream",
     "text": [
      "124 µs ± 1.36 µs per loop (mean ± std. dev. of 7 runs, 10000 loops each)\n"
     ]
    }
   ],
   "source": [
    "%%timeit # Let's check the timing with some random points in the range\n",
    "test_initial = min_p + (max_p - min_p)*cs.np.random.rand()\n",
    "reactiveQPcntrllr.solve(time_var=0.0, robot_var=test_initial)"
   ]
  },
  {
   "cell_type": "code",
   "execution_count": 6,
   "metadata": {},
   "outputs": [],
   "source": [
    "# Simulate it!\n",
    "dt = 0.01\n",
    "t_sim = cs.np.array([dt*i for i in range(1200)])\n",
    "p_sim = cs.np.zeros(len(t_sim))\n",
    "dp_sim = cs.np.zeros(len(t_sim))\n",
    "for i in range(len(t_sim)-1):\n",
    "    dp_sim[i] = reactiveQPcntrllr.solve(t_sim[i], p_sim[i])[0].toarray()\n",
    "    p_sim[i+1] = p_sim[i] + dp_sim[i]*dt"
   ]
  },
  {
   "cell_type": "code",
   "execution_count": 7,
   "metadata": {},
   "outputs": [
    {
     "data": {
      "text/plain": [
       "<matplotlib.legend.Legend at 0x7f8b50031780>"
      ]
     },
     "execution_count": 7,
     "metadata": {},
     "output_type": "execute_result"
    },
    {
     "data": {
      "image/png": "[encoded data removed]",
      "text/plain": [
       "<Figure size 432x288 with 2 Axes>"
      ]
     },
     "metadata": {
      "needs_background": "light"
     },
     "output_type": "display_data"
    }
   ],
   "source": [
    "fig, axs = plt.subplots(2,1)\n",
    "axs[0].plot(t_sim, p_sim, label=\"position\")\n",
    "axs[0].set_ylabel(\"position [m]\")\n",
    "axs[1].plot(t_sim, dp_sim, label=\"desired speed\",c=\"r\")\n",
    "axs[1].plot([min(t_sim),max(t_sim)],[max_speed, max_speed],'k--')\n",
    "axs[1].plot([min(t_sim),max(t_sim)],[-max_speed, -max_speed],'k--')\n",
    "axs[1].set_xlabel(\"t [s]\")\n",
    "axs[0].legend()\n",
    "axs[1].legend()"
   ]
  },
  {
   "cell_type": "markdown",
   "metadata": {},
   "source": [
    "### Reactive NLP approach"
   ]
  },
  {
   "cell_type": "code",
   "execution_count": 8,
   "metadata": {},
   "outputs": [],
   "source": [
    "# Create the controller:\n",
    "reactiveNLPcntrllr = cc.ReactiveNLPController(\n",
    "    skill_spec=point_skill,\n",
    "    cost_expr=10.0*dp*dp)\n",
    "reactiveNLPcntrllr.setup_problem_functions()\n",
    "reactiveNLPcntrllr.setup_solver()"
   ]
  },
  {
   "cell_type": "code",
   "execution_count": 9,
   "metadata": {},
   "outputs": [
    {
     "name": "stdout",
     "output_type": "stream",
     "text": [
      "\n",
      "******************************************************************************\n",
      "This program contains Ipopt, a library for large-scale nonlinear optimization.\n",
      " Ipopt is released as open source code under the Eclipse Public License (EPL).\n",
      "         For more information visit http://projects.coin-or.org/Ipopt\n",
      "******************************************************************************\n",
      "\n",
      "3.52 ms ± 31.5 µs per loop (mean ± std. dev. of 7 runs, 100 loops each)\n"
     ]
    }
   ],
   "source": [
    "%%timeit # Let's check the timing with some random points in the range\n",
    "test_initial = min_p + (max_p -min_p)*cs.np.random.rand()\n",
    "reactiveNLPcntrllr.solve(time_var=0.0, robot_var=0.0)"
   ]
  },
  {
   "cell_type": "code",
   "execution_count": 10,
   "metadata": {},
   "outputs": [
    {
     "name": "stdout",
     "output_type": "stream",
     "text": [
      "3.48 s ± 182 ms per loop (mean ± std. dev. of 7 runs, 1 loop each)\n"
     ]
    }
   ],
   "source": [
    "%%timeit -n 1\n",
    "#Simulate it!\n",
    "dt = 0.01\n",
    "t_sim = cs.np.array([dt*i for i in range(1200)])\n",
    "p_sim = cs.np.zeros(len(t_sim))\n",
    "dp_sim = cs.np.zeros(len(t_sim))\n",
    "for i in range(len(t_sim)-1):\n",
    "    dp_sim[i] = reactiveNLPcntrllr.solve(t_sim[i], p_sim[i])[0].toarray()\n",
    "    p_sim[i+1] = p_sim[i] + dp_sim[i]*dt"
   ]
  },
  {
   "cell_type": "code",
   "execution_count": 11,
   "metadata": {},
   "outputs": [
    {
     "data": {
      "text/plain": [
       "<matplotlib.legend.Legend at 0x7f8b4839cd30>"
      ]
     },
     "execution_count": 11,
     "metadata": {},
     "output_type": "execute_result"
    },
    {
     "data": {
      "image/png": "[encoded data removed]",
      "text/plain": [
       "<Figure size 432x288 with 2 Axes>"
      ]
     },
     "metadata": {
      "needs_background": "light"
     },
     "output_type": "display_data"
    }
   ],
   "source": [
    "fig, axs = plt.subplots(2,1)\n",
    "axs[0].plot(t_sim, p_sim, label=\"position\")\n",
    "axs[0].set_ylabel(\"position [m]\")\n",
    "axs[1].plot(t_sim, dp_sim, label=\"desired speed\",c=\"r\")\n",
    "axs[1].plot([min(t_sim),max(t_sim)],[max_speed, max_speed],'k--')\n",
    "axs[1].plot([min(t_sim),max(t_sim)],[-max_speed, -max_speed],'k--')\n",
    "axs[1].set_xlabel(\"t [s]\")\n",
    "axs[0].legend()\n",
    "axs[1].legend()"
   ]
  },
  {
   "cell_type": "markdown",
   "metadata": {},
   "source": [
    "### Pseudo Inverse approach\n",
    "The pseudo inverse controller does not have a way of handing VelocitySetConstraints. Perhaps I'll get around to figuring out a way of doing it in the future, but for now, we have to make a separate skill for this, where we also get the priorities right. Then we just saturate the velocity before applying it.\n",
    "Note for programmers: sorting the constraints is just using the python method `sorted`, so you can make the priority key anything that can be compared if you want. "
   ]
  },
  {
   "cell_type": "code",
   "execution_count": 12,
   "metadata": {},
   "outputs": [
    {
     "name": "stdout",
     "output_type": "stream",
     "text": [
      "SkillSpecification: move_to_point_skill_pinv\n",
      "#0: cart_limit_cnstr\n",
      "#1: min_dist_cnstr\n",
      "N constraints: 2\n",
      "N equality:\n",
      "\tPos:1\tVel:0\n",
      "N set:\n",
      "\tPos:1\tVel:0\n"
     ]
    }
   ],
   "source": [
    "# Modify the priority of the skills.\n",
    "cart_limit_cnstr.priority = 1 # Moving out of the rail is the highest priority\n",
    "min_dist_cnstr.priority = 2 # Moving to the point is second highest priority\n",
    "point_skill_pinv = cc.SkillSpecification(\n",
    "    label=\"move_to_point_skill_pinv\",\n",
    "    time_var=t,\n",
    "    robot_var=p,\n",
    "    robot_vel_var=dp,\n",
    "    constraints=[min_dist_cnstr, cart_limit_cnstr])\n",
    "point_skill_pinv.print_constraints()"
   ]
  },
  {
   "cell_type": "code",
   "execution_count": 13,
   "metadata": {},
   "outputs": [],
   "source": [
    "# Create the controller:\n",
    "pseudoinvcntrllr = cc.PseudoInverseController(\n",
    "    skill_spec=point_skill_pinv)\n",
    "pseudoinvcntrllr.setup_problem_functions() # Does nothing in pseudoinversecontroller, but yeah, we'll remove it later\n",
    "pseudoinvcntrllr.setup_solver() # Sets up everything"
   ]
  },
  {
   "cell_type": "code",
   "execution_count": 14,
   "metadata": {},
   "outputs": [
    {
     "name": "stdout",
     "output_type": "stream",
     "text": [
      "41.3 µs ± 818 ns per loop (mean ± std. dev. of 7 runs, 10000 loops each)\n"
     ]
    }
   ],
   "source": [
    "%%timeit # Let's check the timing with some random points in the range\n",
    "test_initial = min_p + (max_p -min_p)*cs.np.random.rand()\n",
    "pseudoinvcntrllr.solve(time_var=0.0, robot_var=0.0)"
   ]
  },
  {
   "cell_type": "code",
   "execution_count": 15,
   "metadata": {},
   "outputs": [
    {
     "name": "stdout",
     "output_type": "stream",
     "text": [
      "88.6 ms ± 2.77 ms per loop (mean ± std. dev. of 7 runs, 1 loop each)\n"
     ]
    }
   ],
   "source": [
    "%%timeit -n 1\n",
    "# Simulate it!\n",
    "dt = 0.01\n",
    "t_sim = cs.np.array([dt*i for i in range(1200)])\n",
    "p_sim = cs.np.zeros(len(t_sim))\n",
    "dp_sim = cs.np.zeros(len(t_sim))\n",
    "for i in range(len(t_sim)-1):\n",
    "    dp_sim[i] = max(min(pseudoinvcntrllr.solve(t_sim[i], p_sim[i])[0].toarray(), max_speed), -max_speed)\n",
    "    p_sim[i+1] = p_sim[i] + dp_sim[i]*dt"
   ]
  },
  {
   "cell_type": "code",
   "execution_count": 16,
   "metadata": {},
   "outputs": [
    {
     "data": {
      "text/plain": [
       "<matplotlib.legend.Legend at 0x7f8b47b18668>"
      ]
     },
     "execution_count": 16,
     "metadata": {},
     "output_type": "execute_result"
    },
    {
     "data": {
      "image/png": "[encoded data removed]",
      "text/plain": [
       "<Figure size 432x288 with 2 Axes>"
      ]
     },
     "metadata": {
      "needs_background": "light"
     },
     "output_type": "display_data"
    }
   ],
   "source": [
    "fig, axs = plt.subplots(2,1)\n",
    "axs[0].plot(t_sim, p_sim, label=\"position\")\n",
    "axs[0].set_ylabel(\"position [m]\")\n",
    "axs[1].plot(t_sim, dp_sim, label=\"desired speed\",c=\"r\")\n",
    "axs[1].plot([min(t_sim),max(t_sim)],[max_speed, max_speed],'k--')\n",
    "axs[1].plot([min(t_sim),max(t_sim)],[-max_speed, -max_speed],'k--')\n",
    "axs[1].set_xlabel(\"t [s]\")\n",
    "axs[0].legend()\n",
    "axs[1].legend()"
   ]
  },
  {
   "cell_type": "markdown",
   "metadata": {},
   "source": [
    "### Model predictive approach"
   ]
  },
  {
   "cell_type": "code",
   "execution_count": 17,
   "metadata": {},
   "outputs": [],
   "source": [
    "# Create the controller:\n",
    "mpcntrllr = cc.ModelPredictiveController(\n",
    "    skill_spec=point_skill,\n",
    "    cost_expr=1.0*dp*dp,\n",
    "    timestep=dt,\n",
    "    horizon_length=10)\n",
    "mpcntrllr.setup_problem_functions()\n",
    "mpcntrllr.setup_solver()"
   ]
  },
  {
   "cell_type": "code",
   "execution_count": 18,
   "metadata": {},
   "outputs": [
    {
     "name": "stdout",
     "output_type": "stream",
     "text": [
      "5.32 ms ± 189 µs per loop (mean ± std. dev. of 7 runs, 100 loops each)\n"
     ]
    }
   ],
   "source": [
    "%%timeit # Let's check the timing with some random points in the range\n",
    "test_initial = min_p + (max_p -min_p)*cs.np.random.rand()\n",
    "mpcntrllr.solve(time_var=0.0, robot_var=0.0)"
   ]
  },
  {
   "cell_type": "code",
   "execution_count": 19,
   "metadata": {},
   "outputs": [],
   "source": [
    "# Simulate it!\n",
    "dt = 0.01\n",
    "t_sim = cs.np.array([dt*i for i in range(1200)])\n",
    "p_sim = cs.np.zeros(len(t_sim))\n",
    "dp_sim = cs.np.zeros(len(t_sim))\n",
    "horizons_sim = []\n",
    "for i in range(len(t_sim)-1):\n",
    "    dp_sim[i] = mpcntrllr.solve(t_sim[i], p_sim[i])[0].toarray()\n",
    "    p_sim[i+1] = p_sim[i] + dp_sim[i]*dt\n",
    "    horizons_sim += [mpcntrllr.get_horizons()]"
   ]
  },
  {
   "cell_type": "code",
   "execution_count": 20,
   "metadata": {},
   "outputs": [
    {
     "data": {
      "text/plain": [
       "<matplotlib.legend.Legend at 0x7f8b46f86710>"
      ]
     },
     "execution_count": 20,
     "metadata": {},
     "output_type": "execute_result"
    },
    {
     "data": {
      "image/png": "[encoded data removed]",
      "text/plain": [
       "<Figure size 432x288 with 2 Axes>"
      ]
     },
     "metadata": {
      "needs_background": "light"
     },
     "output_type": "display_data"
    }
   ],
   "source": [
    "fig, axs = plt.subplots(2,1)\n",
    "axs[0].plot(t_sim, p_sim, label=\"position\")\n",
    "axs[0].set_ylabel(\"position [m]\")\n",
    "axs[1].plot(t_sim, dp_sim, label=\"desired speed\",c=\"r\")\n",
    "axs[1].plot([min(t_sim),max(t_sim)],[max_speed, max_speed],'k--')\n",
    "axs[1].plot([min(t_sim),max(t_sim)],[-max_speed, -max_speed],'k--')\n",
    "axs[1].set_xlabel(\"t [s]\")\n",
    "axs[0].legend()\n",
    "axs[1].legend()"
   ]
  },
  {
   "cell_type": "code",
   "execution_count": 21,
   "metadata": {},
   "outputs": [
    {
     "data": {
      "image/png": "[encoded data removed]",
      "text/plain": [
       "<Figure size 432x288 with 2 Axes>"
      ]
     },
     "metadata": {
      "needs_background": "light"
     },
     "output_type": "display_data"
    }
   ],
   "source": [
    "from matplotlib import animation\n",
    "from IPython.display import HTML\n",
    "# First set up the figure, the axis, and the plot element we want to animate\n",
    "fig, axs = plt.subplots(2,1)\n",
    "realpos_line, = axs[0].plot([], [], lw=2,c=\"blue\",label=\"position\")\n",
    "realspeed_line, = axs[1].plot([], [], lw=2, c=\"red\",label=\"speed\")\n",
    "predpos_line, = axs[0].plot([],[], lw=2, c=\"g\",marker=\"*\", label=\"predicted\")\n",
    "predspeed_line, = axs[1].plot([],[], lw=2, c=\"g\",marker=\"*\", label=\"predicted\")\n",
    "axs[0].set_ylabel(\"position [m]\")\n",
    "axs[1].set_ylabel(\"speed [m/s]\")\n",
    "max_speed_line, = axs[1].plot([min(t_sim),max(t_sim)],[max_speed, max_speed],'k--')\n",
    "min_speed_line, = axs[1].plot([min(t_sim),max(t_sim)],[-max_speed, -max_speed],'k--')\n",
    "axs[1].set_xlabel(\"t [s]\")\n",
    "axs[0].legend()\n",
    "axs[1].legend()\n",
    "axs[0].set_ylim([min_p, max_p])\n",
    "axs[0].set_xlim([min(t_sim), max(t_sim)])\n",
    "\n",
    "def init():\n",
    "    realpos_line.set_data([],[])\n",
    "    realspeed_line.set_data([],[])\n",
    "    predpos_line.set_data([],[])\n",
    "    predspeed_line.set_data([],[])\n",
    "    axs[0].set_title(\"Timestep:\"+str(i))\n",
    "    return [realpos_line, realspeed_line, predpos_line, predspeed_line]\n",
    "\n",
    "def animate(i):\n",
    "    realpos_line.set_data(t_sim[:i], p_sim[:i])\n",
    "    realspeed_line.set_data(t_sim[:i],dp_sim[:i])\n",
    "    pred_time = [t_sim[i] + j*dt for j in range(mpcntrllr.horizon_length)]\n",
    "    predpos_line.set_data(pred_time, horizons_sim[i][0][1:])\n",
    "    predspeed_line.set_data(pred_time, horizons_sim[i][1])\n",
    "    # Growing limits\n",
    "    #axs[0].set_xlim([min(t_sim), max(pred_time) + 5*dt])\n",
    "    #axs[1].set_xlim([min(t_sim), max(pred_time) + 5*dt])\n",
    "    # Moving window limits\n",
    "    axs[0].set_xlim([t_sim[i]-20*dt, t_sim[i]+(mpcntrllr.horizon_length+10)*dt])\n",
    "    axs[1].set_xlim([t_sim[i]-20*dt, t_sim[i]+(mpcntrllr.horizon_length+10)*dt])\n",
    "    axs[0].set_title(\"Timestep:\"+str(i))\n",
    "    return [realpos_line, realspeed_line, predpos_line, predspeed_line]\n",
    "if SHOW_ANIMATIONS:\n",
    "    anim_pos = animation.FuncAnimation(fig, animate, init_func=init,\n",
    "                                   frames=len(t_sim)-1, interval=int(2000*dt), blit=True)\n",
    "    html5_pos = anim_pos.to_html5_video()\n",
    "else:\n",
    "    html5_pos = None"
   ]
  },
  {
   "cell_type": "code",
   "execution_count": 22,
   "metadata": {},
   "outputs": [
    {
     "data": {
      "text/plain": [
       "<IPython.core.display.HTML object>"
      ]
     },
     "execution_count": 22,
     "metadata": {},
     "output_type": "execute_result"
    }
   ],
   "source": [
    "HTML(html5_pos)"
   ]
  },
  {
   "cell_type": "markdown",
   "metadata": {},
   "source": [
    "## Tracking a trajectory\n",
    "The trajectory we want to move to is: $p_{des}(t)$, we'll call `p_des`. Let's say the track is from 0.0 to 1.0 m and we can move at a speed of at most 0.275 m/s (0.99 km/h) back and forth.\n",
    "A simple example is a sine trajectory that goes out of the track to really show those limits are there.\n",
    "$$\n",
    "p_{des}(t) = 0.4\\sin(0.1t)\n",
    "$$\n",
    "We use the same cart and speed limits as before."
   ]
  },
  {
   "cell_type": "code",
   "execution_count": 23,
   "metadata": {},
   "outputs": [
    {
     "name": "stdout",
     "output_type": "stream",
     "text": [
      "SkillSpecification: track_trajectory_skill\n",
      "#0: min_dist_cnstr\n",
      "#1: cart_limit_cnstr\n",
      "#2: speed_limit_cnstr\n",
      "N constraints: 3\n",
      "N equality:\n",
      "\tPos:1\tVel:0\n",
      "N set:\n",
      "\tPos:1\tVel:1\n"
     ]
    }
   ],
   "source": [
    "p_des = 0.4*cs.sin(0.3*t)  # Desired point\n",
    "# Setup the constraint to get there\n",
    "dist_to_traj = p_des - p\n",
    "min_dist_cnstr = cc.EqualityConstraint(\n",
    "    label=\"min_dist_cnstr\", # Label for nice printing\n",
    "    expression=dist_to_traj, # Expression to be minimized\n",
    "    gain=1.0, # Convergence gain\n",
    "    constraint_type=\"soft\", # The speed limit is hard, so this has to be soft to accommodate (sets whether to use slack)\n",
    "    priority=1) # Priority when using pseudo inverse approaches\n",
    "# Setup the cart length limits:\n",
    "point = p\n",
    "cart_limit_cnstr = cc.SetConstraint(\n",
    "    label=\"cart_limit_cnstr\",\n",
    "    expression=point,\n",
    "    gain=1.0,\n",
    "    set_min=min_p,\n",
    "    set_max=max_p)\n",
    "# Setup the speed limits:\n",
    "speed =  p\n",
    "speed_limit_cnstr = cc.VelocitySetConstraint(\n",
    "    label=\"speed_limit_cnstr\",\n",
    "    expression=speed,\n",
    "    gain=10.0,\n",
    "    set_min=-max_speed,\n",
    "    set_max=max_speed)\n",
    "trajectory_skill = cc.SkillSpecification(\n",
    "    label=\"track_trajectory_skill\", # Label for nice printing\n",
    "    time_var=t, # the time var\n",
    "    robot_var=p,\n",
    "    robot_vel_var=dp, \n",
    "    constraints=[min_dist_cnstr, \n",
    "                 cart_limit_cnstr, \n",
    "                 speed_limit_cnstr])\n",
    "trajectory_skill.print_constraints() # Print some info about the constraints"
   ]
  },
  {
   "cell_type": "markdown",
   "metadata": {},
   "source": [
    "### Reactive QP"
   ]
  },
  {
   "cell_type": "code",
   "execution_count": 24,
   "metadata": {},
   "outputs": [],
   "source": [
    "# Create the controller:\n",
    "reactiveQPcntrllr = cc.ReactiveQPController(\n",
    "    skill_spec=trajectory_skill, # The skill to execute\n",
    "    robot_var_weights=[1.0]) # The weights in the QP, defaults to 1.0\n",
    "# Setup the things in the controller:\n",
    "reactiveQPcntrllr.setup_problem_functions() # This sets up the functions, compiles them\n",
    "reactiveQPcntrllr.setup_solver() # This sets up the solver itself\n",
    "# Eventually these two will be combined"
   ]
  },
  {
   "cell_type": "code",
   "execution_count": 25,
   "metadata": {},
   "outputs": [
    {
     "name": "stdout",
     "output_type": "stream",
     "text": [
      "131 µs ± 9.32 µs per loop (mean ± std. dev. of 7 runs, 10000 loops each)\n"
     ]
    }
   ],
   "source": [
    "%%timeit # Let's check the timing with some random points in the range\n",
    "test_initial = min_p + (max_p - min_p-1e-5)*cs.np.random.rand() + 1e-6\n",
    "reactiveQPcntrllr.solve(time_var=0.0, robot_var=0.001)#test_initial)"
   ]
  },
  {
   "cell_type": "code",
   "execution_count": 26,
   "metadata": {},
   "outputs": [],
   "source": [
    "# Simulate it!\n",
    "dt = 0.02\n",
    "t_sim = cs.np.array([dt*i for i in range(1200)])\n",
    "p_sim = cs.np.zeros(len(t_sim))\n",
    "p_sim[0] = 0.0001\n",
    "des_p_sim = [cs.Function(\"des_p\",[t],[p_des])(t_sim[i]) for i in range(len(t_sim))]\n",
    "dp_sim = cs.np.zeros(len(t_sim))\n",
    "for i in range(len(t_sim)-1):\n",
    "    dp_sim[i] = reactiveQPcntrllr.solve(t_sim[i], p_sim[i])[0].toarray()\n",
    "    p_sim[i+1] = p_sim[i] + dp_sim[i]*dt"
   ]
  },
  {
   "cell_type": "code",
   "execution_count": 27,
   "metadata": {},
   "outputs": [
    {
     "data": {
      "text/plain": [
       "<matplotlib.legend.Legend at 0x7f8b716d6278>"
      ]
     },
     "execution_count": 27,
     "metadata": {},
     "output_type": "execute_result"
    },
    {
     "data": {
      "image/png": "[encoded data removed]",
      "text/plain": [
       "<Figure size 432x288 with 2 Axes>"
      ]
     },
     "metadata": {
      "needs_background": "light"
     },
     "output_type": "display_data"
    }
   ],
   "source": [
    "fig, axs = plt.subplots(2,1)\n",
    "axs[0].plot(t_sim, p_sim, label=\"position\",lw=3)\n",
    "axs[0].plot([min(t_sim),max(t_sim)],[min_p,min_p],\"k--\")\n",
    "axs[0].plot([min(t_sim),max(t_sim)],[max_p,max_p],\"k--\")\n",
    "axs[0].plot(t_sim, des_p_sim,label=\"reference\",ls=\"--\")\n",
    "axs[0].set_ylabel(\"position [m]\")\n",
    "axs[1].plot(t_sim, dp_sim, label=\"desired speed\",c=\"r\")\n",
    "axs[1].plot([min(t_sim),max(t_sim)],[max_speed, max_speed],'k--')\n",
    "axs[1].plot([min(t_sim),max(t_sim)],[-max_speed, -max_speed],'k--')\n",
    "axs[1].set_xlabel(\"t [s]\")\n",
    "axs[0].legend()\n",
    "axs[1].legend()"
   ]
  },
  {
   "cell_type": "markdown",
   "metadata": {},
   "source": [
    "## Reactive NLP"
   ]
  },
  {
   "cell_type": "code",
   "execution_count": 28,
   "metadata": {},
   "outputs": [],
   "source": [
    "# Create the controller:\n",
    "reactiveNLPcntrllr = cc.ReactiveNLPController(\n",
    "    skill_spec=trajectory_skill, # The skill to execute\n",
    "    cost_expr=1.0*dp*dp) # The weights in the QP, defaults to 1.0\n",
    "# Setup the things in the controller:\n",
    "reactiveNLPcntrllr.setup_problem_functions() # This sets up the functions, compiles them\n",
    "reactiveNLPcntrllr.setup_solver() # This sets up the solver itself\n",
    "# Eventually these two will be combined"
   ]
  },
  {
   "cell_type": "code",
   "execution_count": 29,
   "metadata": {},
   "outputs": [
    {
     "name": "stdout",
     "output_type": "stream",
     "text": [
      "3.11 ms ± 36.3 µs per loop (mean ± std. dev. of 7 runs, 100 loops each)\n"
     ]
    }
   ],
   "source": [
    "%%timeit # Let's check the timing with some random points in the range\n",
    "test_initial = min_p + (max_p - min_p-1e-5)*cs.np.random.rand() + 1e-6\n",
    "reactiveNLPcntrllr.solve(time_var=0.0, robot_var=0.001)#test_initial)"
   ]
  },
  {
   "cell_type": "code",
   "execution_count": 30,
   "metadata": {},
   "outputs": [],
   "source": [
    "# Simulate it!\n",
    "dt = 0.02\n",
    "t_sim = cs.np.array([dt*i for i in range(1200)])\n",
    "p_sim = cs.np.zeros(len(t_sim))\n",
    "p_sim[0] = 0.0001\n",
    "des_p_sim = [cs.Function(\"des_p\",[t],[p_des])(t_sim[i]) for i in range(len(t_sim))]\n",
    "dp_sim = cs.np.zeros(len(t_sim))\n",
    "for i in range(len(t_sim)-1):\n",
    "    dp_sim[i] = reactiveNLPcntrllr.solve(t_sim[i], p_sim[i])[0].toarray()\n",
    "    p_sim[i+1] = p_sim[i] + dp_sim[i]*dt"
   ]
  },
  {
   "cell_type": "code",
   "execution_count": 31,
   "metadata": {},
   "outputs": [
    {
     "data": {
      "text/plain": [
       "<matplotlib.legend.Legend at 0x7f8b71657f28>"
      ]
     },
     "execution_count": 31,
     "metadata": {},
     "output_type": "execute_result"
    },
    {
     "data": {
      "image/png": "[encoded data removed]",
      "text/plain": [
       "<Figure size 432x288 with 2 Axes>"
      ]
     },
     "metadata": {
      "needs_background": "light"
     },
     "output_type": "display_data"
    }
   ],
   "source": [
    "fig, axs = plt.subplots(2,1)\n",
    "axs[0].plot(t_sim, p_sim, label=\"position\",lw=3)\n",
    "axs[0].plot([min(t_sim),max(t_sim)],[min_p,min_p],\"k--\")\n",
    "axs[0].plot([min(t_sim),max(t_sim)],[max_p,max_p],\"k--\")\n",
    "axs[0].plot(t_sim, des_p_sim,label=\"reference\",ls=\"--\")\n",
    "axs[0].set_ylabel(\"position [m]\")\n",
    "axs[1].plot(t_sim, dp_sim, label=\"desired speed\",c=\"r\")\n",
    "axs[1].plot([min(t_sim),max(t_sim)],[max_speed, max_speed],'k--')\n",
    "axs[1].plot([min(t_sim),max(t_sim)],[-max_speed, -max_speed],'k--')\n",
    "axs[1].set_xlabel(\"t [s]\")\n",
    "axs[0].legend()\n",
    "axs[1].legend()"
   ]
  },
  {
   "cell_type": "markdown",
   "metadata": {},
   "source": [
    "## Model Predictive approach"
   ]
  },
  {
   "cell_type": "code",
   "execution_count": 32,
   "metadata": {},
   "outputs": [],
   "source": [
    "# Create the controller:\n",
    "mpcntrllr = cc.ModelPredictiveController(\n",
    "    skill_spec=trajectory_skill, # The skill to execute\n",
    "    cost_expr=1.*dp*dp,\n",
    "    timestep=dt,\n",
    "    horizon_length=10) # The weights in the QP, defaults to 1.0\n",
    "# Setup the things in the controller:\n",
    "mpcntrllr.setup_problem_functions() # This sets up the functions, compiles them\n",
    "mpcntrllr.setup_solver() # This sets up the solver itself\n",
    "# Eventually these two will be combined"
   ]
  },
  {
   "cell_type": "code",
   "execution_count": 33,
   "metadata": {},
   "outputs": [
    {
     "name": "stdout",
     "output_type": "stream",
     "text": [
      "6.51 ms ± 75.7 µs per loop (mean ± std. dev. of 7 runs, 100 loops each)\n"
     ]
    }
   ],
   "source": [
    "%%timeit # Let's check the timing with some random points in the range\n",
    "test_initial = min_p + (max_p - min_p-1e-5)*cs.np.random.rand() + 1e-6\n",
    "mpcntrllr.solve(time_var=0.0, robot_var=test_initial)"
   ]
  },
  {
   "cell_type": "code",
   "execution_count": 34,
   "metadata": {},
   "outputs": [],
   "source": [
    "# Simulate it!\n",
    "dt = 0.01\n",
    "t_sim = cs.np.array([dt*i for i in range(1200)])\n",
    "p_sim = cs.np.zeros(len(t_sim))\n",
    "p_sim[0] = 0.0\n",
    "des_p_sim = [cs.Function(\"des_p\",[t],[p_des])(t_sim[i]) for i in range(len(t_sim))]\n",
    "dp_sim = cs.np.zeros(len(t_sim))\n",
    "horizons_sim = []\n",
    "for i in range(len(t_sim)-1):\n",
    "    dp_sim[i] = mpcntrllr.solve(t_sim[i], p_sim[i])[0].toarray()\n",
    "    p_sim[i+1] = p_sim[i] + dp_sim[i]*dt\n",
    "    horizons_sim += [mpcntrllr.get_horizons()]"
   ]
  },
  {
   "cell_type": "code",
   "execution_count": 35,
   "metadata": {},
   "outputs": [
    {
     "data": {
      "text/plain": [
       "<matplotlib.legend.Legend at 0x7f8b473b54e0>"
      ]
     },
     "execution_count": 35,
     "metadata": {},
     "output_type": "execute_result"
    },
    {
     "data": {
      "image/png": "[encoded data removed]",
      "text/plain": [
       "<Figure size 432x288 with 2 Axes>"
      ]
     },
     "metadata": {
      "needs_background": "light"
     },
     "output_type": "display_data"
    }
   ],
   "source": [
    "fig, axs = plt.subplots(2,1)\n",
    "axs[0].plot(t_sim, p_sim, label=\"position\",lw=3)\n",
    "axs[0].plot([min(t_sim),max(t_sim)],[min_p,min_p],\"k--\")\n",
    "axs[0].plot([min(t_sim),max(t_sim)],[max_p,max_p],\"k--\")\n",
    "axs[0].plot(t_sim, des_p_sim,label=\"reference\",ls=\"--\")\n",
    "axs[0].set_ylabel(\"position [m]\")\n",
    "axs[1].plot(t_sim, dp_sim, label=\"desired speed\",c=\"r\")\n",
    "axs[1].plot([min(t_sim),max(t_sim)],[max_speed, max_speed],'k--')\n",
    "axs[1].plot([min(t_sim),max(t_sim)],[-max_speed, -max_speed],'k--')\n",
    "axs[1].set_xlabel(\"t [s]\")\n",
    "axs[0].legend()\n",
    "axs[1].legend()"
   ]
  },
  {
   "cell_type": "code",
   "execution_count": 36,
   "metadata": {},
   "outputs": [
    {
     "data": {
      "image/png": "[encoded data removed]",
      "text/plain": [
       "<Figure size 432x288 with 2 Axes>"
      ]
     },
     "metadata": {
      "needs_background": "light"
     },
     "output_type": "display_data"
    }
   ],
   "source": [
    "from matplotlib import animation\n",
    "from IPython.display import HTML\n",
    "# First set up the figure, the axis, and the plot element we want to animate\n",
    "fig, axs = plt.subplots(2,1)\n",
    "realpos_line, = axs[0].plot([], [], lw=2,c=\"blue\",label=\"position\")\n",
    "realspeed_line, = axs[1].plot([], [], lw=2, c=\"red\",label=\"speed\")\n",
    "predpos_line, = axs[0].plot([],[], lw=2, c=\"g\",marker=\"*\", label=\"predicted\")\n",
    "predspeed_line, = axs[1].plot([],[], lw=2, c=\"g\",marker=\"*\", label=\"predicted\")\n",
    "reference_line, = axs[0].plot(t_sim, des_p_sim,label=\"reference\",ls=\"--\")\n",
    "axs[0].set_ylabel(\"position [m]\")\n",
    "axs[1].set_ylabel(\"speed [m/s]\")\n",
    "max_speed_line, = axs[1].plot([min(t_sim),max(t_sim)],[max_speed, max_speed],'k--')\n",
    "min_speed_line, = axs[1].plot([min(t_sim),max(t_sim)],[-max_speed, -max_speed],'k--')\n",
    "axs[1].set_xlabel(\"t [s]\")\n",
    "axs[0].legend()\n",
    "axs[1].legend()\n",
    "axs[0].set_ylim([min_p, max_p])\n",
    "axs[0].set_xlim([min(t_sim), max(t_sim)])\n",
    "\n",
    "def init():\n",
    "    realpos_line.set_data([],[])\n",
    "    realspeed_line.set_data([],[])\n",
    "    predpos_line.set_data([],[])\n",
    "    predspeed_line.set_data([],[])\n",
    "    axs[0].set_title(\"Timestep:\"+str(i))\n",
    "    return [realpos_line, realspeed_line, predpos_line, predspeed_line]\n",
    "\n",
    "def animate(i):\n",
    "    realpos_line.set_data(t_sim[:i], p_sim[:i])\n",
    "    realspeed_line.set_data(t_sim[:i],dp_sim[:i])\n",
    "    pred_time = [t_sim[i] + j*dt for j in range(mpcntrllr.horizon_length)]\n",
    "    predpos_line.set_data(pred_time, horizons_sim[i][0][1:])\n",
    "    predspeed_line.set_data(pred_time, horizons_sim[i][1])\n",
    "    # Growing limits\n",
    "    #axs[0].set_xlim([min(t_sim), max(pred_time) + 5*dt])\n",
    "    #axs[1].set_xlim([min(t_sim), max(pred_time) + 5*dt])\n",
    "    # Moving window limits\n",
    "    axs[0].set_xlim([t_sim[i]-20*dt, t_sim[i]+(mpcntrllr.horizon_length+10)*dt])\n",
    "    axs[1].set_xlim([t_sim[i]-20*dt, t_sim[i]+(mpcntrllr.horizon_length+10)*dt])\n",
    "    axs[0].set_title(\"Timestep:\"+str(i))\n",
    "    return [realpos_line, realspeed_line, predpos_line, predspeed_line]\n",
    "if SHOW_ANIMATIONS:\n",
    "    anim_traj = animation.FuncAnimation(fig, animate, init_func=init,\n",
    "                                   frames=len(t_sim)-1, interval=int(2000*dt), blit=True)\n",
    "    html5_traj = anim_traj.to_html5_video()\n",
    "else:\n",
    "    html5_traj = None"
   ]
  },
  {
   "cell_type": "code",
   "execution_count": 37,
   "metadata": {},
   "outputs": [
    {
     "data": {
      "text/plain": [
       "<IPython.core.display.HTML object>"
      ]
     },
     "execution_count": 37,
     "metadata": {},
     "output_type": "execute_result"
    }
   ],
   "source": [
    "HTML(html5_traj)"
   ]
  },
  {
   "cell_type": "markdown",
   "metadata": {},
   "source": [
    "## PseudoInverse approach\n",
    "Same as previously, we don't have speed limits, so we have to fix some things"
   ]
  },
  {
   "cell_type": "code",
   "execution_count": 38,
   "metadata": {},
   "outputs": [
    {
     "name": "stdout",
     "output_type": "stream",
     "text": [
      "SkillSpecification: track_trajectory_skill\n",
      "#0: cart_limit_cnstr\n",
      "#1: min_dist_cnstr\n",
      "N constraints: 2\n",
      "N equality:\n",
      "\tPos:1\tVel:0\n",
      "N set:\n",
      "\tPos:1\tVel:0\n"
     ]
    }
   ],
   "source": [
    "p_des = 0.4*cs.sin(0.3*t)  # Desired point\n",
    "# Setup the constraint to get there\n",
    "dist_to_traj = p_des - p\n",
    "min_dist_cnstr = cc.EqualityConstraint(\n",
    "    label=\"min_dist_cnstr\", # Label for nice printing\n",
    "    expression=dist_to_traj, # Expression to be minimized\n",
    "    gain=1.0, # Convergence gain\n",
    "    priority=2) # Priority when using pseudo inverse approaches\n",
    "\n",
    "# Setup the cart length limits:\n",
    "point = p\n",
    "cart_limit_cnstr = cc.SetConstraint(\n",
    "    label=\"cart_limit_cnstr\",\n",
    "    expression=point,\n",
    "    gain=1.0,\n",
    "    set_min=min_p,\n",
    "    set_max=max_p,\n",
    "    priority=1)\n",
    "\n",
    "trajectory_skill_pinv = cc.SkillSpecification(\n",
    "    label=\"track_trajectory_skill\", # Label for nice printing\n",
    "    time_var=t, # the time var\n",
    "    robot_var=p,\n",
    "    robot_vel_var=dp, \n",
    "    constraints=[min_dist_cnstr, \n",
    "                 cart_limit_cnstr])\n",
    "trajectory_skill_pinv.print_constraints() # Print some info about the constraints"
   ]
  },
  {
   "cell_type": "code",
   "execution_count": 39,
   "metadata": {},
   "outputs": [],
   "source": [
    "# Create the controller:\n",
    "pseudoinvcntrllr = cc.PseudoInverseController(\n",
    "    skill_spec=trajectory_skill_pinv)\n",
    "pseudoinvcntrllr.setup_problem_functions() # Does nothing in pseudoinversecontroller, but yeah, we'll remove it later\n",
    "pseudoinvcntrllr.setup_solver() # Sets up everything"
   ]
  },
  {
   "cell_type": "code",
   "execution_count": 40,
   "metadata": {},
   "outputs": [
    {
     "name": "stdout",
     "output_type": "stream",
     "text": [
      "49.2 µs ± 1.74 µs per loop (mean ± std. dev. of 7 runs, 10000 loops each)\n"
     ]
    }
   ],
   "source": [
    "%%timeit # Let's check the timing with some random points in the range\n",
    "test_initial = min_p + (max_p - min_p-1e-5)*cs.np.random.rand() + 1e-6\n",
    "pseudoinvcntrllr.solve(time_var=0.0, robot_var=0.001)#test_initial)"
   ]
  },
  {
   "cell_type": "code",
   "execution_count": 41,
   "metadata": {},
   "outputs": [],
   "source": [
    "# Simulate it!\n",
    "dt = 0.02\n",
    "t_sim = cs.np.array([dt*i for i in range(1200)])\n",
    "p_sim = cs.np.zeros(len(t_sim))\n",
    "p_sim[0] = 0.0001\n",
    "des_p_sim = [cs.Function(\"des_p\",[t],[p_des])(t_sim[i]) for i in range(len(t_sim))]\n",
    "dp_sim = cs.np.zeros(len(t_sim))\n",
    "for i in range(len(t_sim)-1):\n",
    "    dp_sim[i] = max(min(pseudoinvcntrllr.solve(t_sim[i], p_sim[i])[0].toarray(),max_speed), -max_speed)\n",
    "    p_sim[i+1] = p_sim[i] + dp_sim[i]*dt"
   ]
  },
  {
   "cell_type": "code",
   "execution_count": 42,
   "metadata": {},
   "outputs": [
    {
     "data": {
      "text/plain": [
       "<matplotlib.legend.Legend at 0x7f8b7178ed68>"
      ]
     },
     "execution_count": 42,
     "metadata": {},
     "output_type": "execute_result"
    },
    {
     "data": {
      "image/png": "[encoded data removed]",
      "text/plain": [
       "<Figure size 432x288 with 2 Axes>"
      ]
     },
     "metadata": {
      "needs_background": "light"
     },
     "output_type": "display_data"
    }
   ],
   "source": [
    "fig, axs = plt.subplots(2,1)\n",
    "axs[0].plot(t_sim, p_sim, label=\"position\",lw=3)\n",
    "axs[0].plot([min(t_sim),max(t_sim)],[min_p,min_p],\"k--\")\n",
    "axs[0].plot([min(t_sim),max(t_sim)],[max_p,max_p],\"k--\")\n",
    "axs[0].plot(t_sim, des_p_sim,label=\"reference\",ls=\"--\")\n",
    "axs[0].set_ylabel(\"position [m]\")\n",
    "axs[1].plot(t_sim, dp_sim, label=\"desired speed\",c=\"r\")\n",
    "axs[1].plot([min(t_sim),max(t_sim)],[max_speed, max_speed],'k--')\n",
    "axs[1].plot([min(t_sim),max(t_sim)],[-max_speed, -max_speed],'k--')\n",
    "axs[1].set_xlabel(\"t [s]\")\n",
    "axs[0].legend()\n",
    "axs[1].legend()"
   ]
  },
  {
   "cell_type": "markdown",
   "metadata": {},
   "source": [
    "## Path following\n",
    "In this case we have a path rather than trajectory. Let's say the track is from 0.0 to 1.0 m and we can move at a speed of at most 0.275 m/s (0.99 km/h) back and forth. The path following variable is a virtual variable such that $x(t) = \\int_{\\tau=0}^{\\tau=t}\\dot{x}(t)$. And to ensure that we move along the track we add a soft constraint that $x-x_{f}=0$ \n",
    "A simple example is a sine path that goes out of the track to really show those limits are there.\n",
    "$$\n",
    "p_{des}(t) = 0.4\\sin(0.3x)\n",
    "$$"
   ]
  },
  {
   "cell_type": "code",
   "execution_count": 43,
   "metadata": {},
   "outputs": [
    {
     "name": "stdout",
     "output_type": "stream",
     "text": [
      "SkillSpecification: path_trajectory_skill\n",
      "#0: move_up_path_cnstr\n",
      "#1: slow_path_cnstr\n",
      "#2: min_dist_cnstr\n",
      "#3: cart_limit_cnstr\n",
      "#4: speed_limit_cnstr\n",
      "N constraints: 5\n",
      "N equality:\n",
      "\tPos:2\tVel:0\n",
      "N set:\n",
      "\tPos:1\tVel:2\n"
     ]
    }
   ],
   "source": [
    "x = cs.MX.sym(\"x\") # virtual var\n",
    "dx = cs.MX.sym(\"dx\") # virtual vel var\n",
    "p_des = 0.4*cs.sin(0.3*x)  # Desired point\n",
    "\n",
    "# Setup the constraint for the virtual var to converge to a large number\n",
    "move_up_path = 300 - x\n",
    "move_up_path_cnstr = cc.EqualityConstraint(\n",
    "    label=\"move_up_path_cnstr\",\n",
    "    expression=move_up_path,\n",
    "    gain=1.0,\n",
    "    constraint_type=\"soft\")\n",
    "\n",
    "# But we don't want it to converge too fast, or it's better to just jump to the end.\n",
    "max_dx = 1.1 # No faster than 110% the speed if it was a trajectory\n",
    "min_dx = 0.0\n",
    "slow_path_cnstr = cc.VelocitySetConstraint(\n",
    "    label=\"slow_path_cnstr\",\n",
    "    expression=x,\n",
    "    set_min=min_dx,\n",
    "    set_max=max_dx)\n",
    "\n",
    "# Setup the constraint to get there\n",
    "dist_to_path = p_des - p\n",
    "min_dist_cnstr = cc.EqualityConstraint(\n",
    "    label=\"min_dist_cnstr\", # Label for nice printing\n",
    "    expression=dist_to_path, # Expression to be minimized\n",
    "    gain=1.0, # Convergence gain\n",
    "    constraint_type=\"soft\", # The speed limit is hard, so this has to be soft to accommodate (sets whether to use slack)\n",
    "    priority=1) # Priority when using pseudo inverse approaches\n",
    "\n",
    "# Setup the cart length limits:\n",
    "point = p\n",
    "cart_limit_cnstr = cc.SetConstraint(\n",
    "    label=\"cart_limit_cnstr\",\n",
    "    expression=point,\n",
    "    gain=1.0,\n",
    "    set_min=min_p,\n",
    "    set_max=max_p)\n",
    "\n",
    "# Setup the speed limits:\n",
    "speed =  p\n",
    "speed_limit_cnstr = cc.VelocitySetConstraint(\n",
    "    label=\"speed_limit_cnstr\",\n",
    "    expression=speed,\n",
    "    gain=10.0,\n",
    "    set_min=-max_speed,\n",
    "    set_max=max_speed)\n",
    "\n",
    "path_skill = cc.SkillSpecification(\n",
    "    label=\"path_trajectory_skill\", # Label for nice printing\n",
    "    time_var=t, # the time var\n",
    "    robot_var=p,\n",
    "    robot_vel_var=dp, \n",
    "    virtual_var=x,\n",
    "    virtual_vel_var=dx,\n",
    "    constraints=[move_up_path_cnstr,\n",
    "                 slow_path_cnstr,\n",
    "                 min_dist_cnstr, \n",
    "                 cart_limit_cnstr, \n",
    "                 speed_limit_cnstr])\n",
    "path_skill.print_constraints() # Print some info about the constraints"
   ]
  },
  {
   "cell_type": "markdown",
   "metadata": {},
   "source": [
    "## Reactive QP approach"
   ]
  },
  {
   "cell_type": "code",
   "execution_count": 44,
   "metadata": {},
   "outputs": [],
   "source": [
    "# Create the controller:\n",
    "reactiveQPcntrllr = cc.ReactiveQPController(\n",
    "    skill_spec=path_skill, # The skill to execute\n",
    "    robot_var_weights=[1.0]) # The weights in the QP, defaults to 1.0\n",
    "# Setup the things in the controller:\n",
    "reactiveQPcntrllr.setup_problem_functions() # This sets up the functions, compiles them\n",
    "reactiveQPcntrllr.setup_solver() # This sets up the solver itself\n",
    "# Eventually these two will be combined"
   ]
  },
  {
   "cell_type": "code",
   "execution_count": 45,
   "metadata": {},
   "outputs": [
    {
     "name": "stdout",
     "output_type": "stream",
     "text": [
      "165 µs ± 9.4 µs per loop (mean ± std. dev. of 7 runs, 10000 loops each)\n"
     ]
    }
   ],
   "source": [
    "%%timeit # Let's check the timing with some random points in the range\n",
    "test_rob = min_p + (max_p - min_p-1e-5)*cs.np.random.rand() + 1e-6\n",
    "test_virt = cs.np.random.rand()\n",
    "reactiveQPcntrllr.solve(time_var=0.0, robot_var=test_rob, virtual_var=test_virt)"
   ]
  },
  {
   "cell_type": "code",
   "execution_count": 46,
   "metadata": {},
   "outputs": [],
   "source": [
    "# Simulate it!\n",
    "dt = 0.02\n",
    "t_sim = cs.np.array([dt*i for i in range(1200)])\n",
    "p_sim = cs.np.zeros(len(t_sim))\n",
    "p_sim[0] = 0.0001\n",
    "x_sim = cs.np.zeros(len(t_sim))\n",
    "des_p_sim = [cs.Function(\"des_p\",[x],[p_des])(t_sim[i]) for i in range(len(t_sim))]\n",
    "dp_sim = cs.np.zeros(len(t_sim))\n",
    "dx_sim = cs.np.zeros(len(t_sim))\n",
    "for i in range(len(t_sim)-1):\n",
    "    res = reactiveQPcntrllr.solve(t_sim[i], p_sim[i], x_sim[i])\n",
    "    dp_sim[i] = res[0].toarray()\n",
    "    dx_sim[i] = res[1].toarray()\n",
    "    p_sim[i+1] = p_sim[i] + dp_sim[i]*dt\n",
    "    x_sim[i+1] = x_sim[i] + dx_sim[i]*dt"
   ]
  },
  {
   "cell_type": "code",
   "execution_count": 47,
   "metadata": {},
   "outputs": [
    {
     "data": {
      "text/plain": [
       "<matplotlib.legend.Legend at 0x7f8b4b7cd1d0>"
      ]
     },
     "execution_count": 47,
     "metadata": {},
     "output_type": "execute_result"
    },
    {
     "data": {
      "image/png": "[encoded data removed]",
      "text/plain": [
       "<Figure size 432x288 with 3 Axes>"
      ]
     },
     "metadata": {
      "needs_background": "light"
     },
     "output_type": "display_data"
    }
   ],
   "source": [
    "fig, axs = plt.subplots(3,1)\n",
    "axs[0].plot(t_sim, p_sim, label=\"position\",lw=3)\n",
    "axs[0].plot([min(t_sim),max(t_sim)],[min_p,min_p],\"k--\")\n",
    "axs[0].plot([min(t_sim),max(t_sim)],[max_p,max_p],\"k--\")\n",
    "axs[0].plot(t_sim, des_p_sim,label=\"reference\",ls=\"--\")\n",
    "axs[0].set_ylabel(\"position [m]\")\n",
    "axs[1].plot(t_sim, dp_sim, label=\"desired speed\",c=\"r\")\n",
    "axs[1].plot([min(t_sim),max(t_sim)],[max_speed, max_speed],'k--')\n",
    "axs[1].plot([min(t_sim),max(t_sim)],[-max_speed, -max_speed],'k--')\n",
    "axs[1].set_xlabel(\"t [s]\")\n",
    "axs[0].legend()\n",
    "axs[1].legend()\n",
    "axs[2].plot(t_sim, x_sim,label=\"along path variable\")\n",
    "axs[2].legend()"
   ]
  },
  {
   "cell_type": "markdown",
   "metadata": {},
   "source": [
    "## Reactive NLP Approach"
   ]
  },
  {
   "cell_type": "code",
   "execution_count": 48,
   "metadata": {},
   "outputs": [],
   "source": [
    "# Create the controller:\n",
    "reactiveNLPcntrllr = cc.ReactiveNLPController(\n",
    "    skill_spec=path_skill, # The skill to execute\n",
    "    cost_expr=1.0*dp*dp) # The weights in the QP, defaults to 1.0\n",
    "# Setup the things in the controller:\n",
    "reactiveNLPcntrllr.setup_problem_functions() # This sets up the functions, compiles them\n",
    "reactiveNLPcntrllr.setup_solver() # This sets up the solver itself\n",
    "# Eventually these two will be combined"
   ]
  },
  {
   "cell_type": "code",
   "execution_count": 49,
   "metadata": {},
   "outputs": [
    {
     "name": "stdout",
     "output_type": "stream",
     "text": [
      "4.46 ms ± 85.9 µs per loop (mean ± std. dev. of 7 runs, 100 loops each)\n"
     ]
    }
   ],
   "source": [
    "%%timeit # Let's check the timing with some random points in the range\n",
    "test_rob = min_p + (max_p - min_p-1e-5)*cs.np.random.rand() + 1e-6\n",
    "test_virt = cs.np.random.rand()\n",
    "reactiveNLPcntrllr.solve(time_var=0.0, robot_var=test_rob, virtual_var=test_virt)"
   ]
  },
  {
   "cell_type": "code",
   "execution_count": 50,
   "metadata": {},
   "outputs": [],
   "source": [
    "# Simulate it!\n",
    "dt = 0.02\n",
    "t_sim = cs.np.array([dt*i for i in range(1200)])\n",
    "p_sim = cs.np.zeros(len(t_sim))\n",
    "p_sim[0] = 0.0001\n",
    "x_sim = cs.np.zeros(len(t_sim))\n",
    "des_p_sim = [cs.Function(\"des_p\",[x],[p_des])(t_sim[i]) for i in range(len(t_sim))]\n",
    "dp_sim = cs.np.zeros(len(t_sim))\n",
    "dx_sim = cs.np.zeros(len(t_sim))\n",
    "for i in range(len(t_sim)-1):\n",
    "    res = reactiveNLPcntrllr.solve(t_sim[i], p_sim[i], x_sim[i])\n",
    "    dp_sim[i] = res[0].toarray()\n",
    "    dx_sim[i] = res[1].toarray()\n",
    "    p_sim[i+1] = p_sim[i] + dp_sim[i]*dt\n",
    "    x_sim[i+1] = x_sim[i] + dx_sim[i]*dt"
   ]
  },
  {
   "cell_type": "code",
   "execution_count": 51,
   "metadata": {},
   "outputs": [
    {
     "data": {
      "text/plain": [
       "<matplotlib.legend.Legend at 0x7f8b4b66f0b8>"
      ]
     },
     "execution_count": 51,
     "metadata": {},
     "output_type": "execute_result"
    },
    {
     "data": {
      "image/png": "[encoded data removed]",
      "text/plain": [
       "<Figure size 432x288 with 3 Axes>"
      ]
     },
     "metadata": {
      "needs_background": "light"
     },
     "output_type": "display_data"
    }
   ],
   "source": [
    "fig, axs = plt.subplots(3,1)\n",
    "axs[0].plot(t_sim, p_sim, label=\"position\",lw=3)\n",
    "axs[0].plot([min(t_sim),max(t_sim)],[min_p,min_p],\"k--\")\n",
    "axs[0].plot([min(t_sim),max(t_sim)],[max_p,max_p],\"k--\")\n",
    "axs[0].plot(t_sim, des_p_sim,label=\"reference\",ls=\"--\")\n",
    "axs[0].set_ylabel(\"position [m]\")\n",
    "axs[1].plot(t_sim, dp_sim, label=\"desired speed\",c=\"r\")\n",
    "axs[1].plot([min(t_sim),max(t_sim)],[max_speed, max_speed],'k--')\n",
    "axs[1].plot([min(t_sim),max(t_sim)],[-max_speed, -max_speed],'k--')\n",
    "axs[1].set_xlabel(\"t [s]\")\n",
    "axs[0].legend()\n",
    "axs[1].legend()\n",
    "axs[2].plot(t_sim, x_sim, label=\"along path variable\")\n",
    "axs[2].legend()"
   ]
  },
  {
   "cell_type": "markdown",
   "metadata": {},
   "source": [
    "## Model predictive approach"
   ]
  },
  {
   "cell_type": "code",
   "execution_count": 52,
   "metadata": {},
   "outputs": [],
   "source": [
    "# Create the controller:\n",
    "mpcntrllr = cc.ModelPredictiveController(\n",
    "    skill_spec=path_skill, # The skill to execute\n",
    "    cost_expr=1.*dp*dp,\n",
    "    timestep=dt,\n",
    "    horizon_length=10) # The weights in the QP, defaults to 1.0\n",
    "# Setup the things in the controller:\n",
    "mpcntrllr.setup_problem_functions() # This sets up the functions, compiles them\n",
    "mpcntrllr.setup_solver() # This sets up the solver itself\n",
    "# Eventually these two will be combined"
   ]
  },
  {
   "cell_type": "code",
   "execution_count": 53,
   "metadata": {},
   "outputs": [
    {
     "name": "stdout",
     "output_type": "stream",
     "text": [
      "10.4 ms ± 354 µs per loop (mean ± std. dev. of 7 runs, 100 loops each)\n"
     ]
    }
   ],
   "source": [
    "%%timeit # Let's check the timing with some random points in the range\n",
    "test_rob = min_p + (max_p - min_p-1e-5)*cs.np.random.rand() + 1e-6\n",
    "test_virt = cs.np.random.rand()\n",
    "mpcntrllr.solve(time_var=0.0, robot_var=test_rob, virtual_var=test_virt)"
   ]
  },
  {
   "cell_type": "code",
   "execution_count": 54,
   "metadata": {},
   "outputs": [],
   "source": [
    "# Simulate it!\n",
    "dt = 0.02\n",
    "t_sim = cs.np.array([dt*i for i in range(1200)])\n",
    "p_sim = cs.np.zeros(len(t_sim))\n",
    "p_sim[0] = 0.0001\n",
    "x_sim = cs.np.zeros(len(t_sim))\n",
    "des_p_sim = [cs.Function(\"des_p\",[x],[p_des])(t_sim[i]) for i in range(len(t_sim))]\n",
    "dp_sim = cs.np.zeros(len(t_sim))\n",
    "dx_sim = cs.np.zeros(len(t_sim))\n",
    "horizons_sim = []\n",
    "for i in range(len(t_sim)-1):\n",
    "    res = mpcntrllr.solve(t_sim[i], p_sim[i], x_sim[i])\n",
    "    dp_sim[i] = res[0].toarray()\n",
    "    dx_sim[i] = res[1].toarray()\n",
    "    p_sim[i+1] = p_sim[i] + dp_sim[i]*dt\n",
    "    x_sim[i+1] = x_sim[i] + dx_sim[i]*dt\n",
    "    horizons_sim += [mpcntrllr.get_horizons()]"
   ]
  },
  {
   "cell_type": "code",
   "execution_count": 55,
   "metadata": {},
   "outputs": [
    {
     "data": {
      "text/plain": [
       "<matplotlib.legend.Legend at 0x7f8b46156588>"
      ]
     },
     "execution_count": 55,
     "metadata": {},
     "output_type": "execute_result"
    },
    {
     "data": {
      "image/png": "[encoded data removed]",
      "text/plain": [
       "<Figure size 432x288 with 3 Axes>"
      ]
     },
     "metadata": {
      "needs_background": "light"
     },
     "output_type": "display_data"
    }
   ],
   "source": [
    "fig, axs = plt.subplots(3,1)\n",
    "axs[0].plot(t_sim, p_sim, label=\"position\",lw=3)\n",
    "axs[0].plot([min(t_sim),max(t_sim)],[min_p,min_p],\"k--\")\n",
    "axs[0].plot([min(t_sim),max(t_sim)],[max_p,max_p],\"k--\")\n",
    "axs[0].plot(t_sim, des_p_sim,label=\"reference\",ls=\"--\")\n",
    "axs[0].set_ylabel(\"position [m]\")\n",
    "axs[1].plot(t_sim, dp_sim, label=\"desired speed\",c=\"r\")\n",
    "axs[1].plot([min(t_sim),max(t_sim)],[max_speed, max_speed],'k--')\n",
    "axs[1].plot([min(t_sim),max(t_sim)],[-max_speed, -max_speed],'k--')\n",
    "axs[1].set_xlabel(\"t [s]\")\n",
    "axs[0].legend()\n",
    "axs[1].legend()\n",
    "axs[2].plot(t_sim, x_sim, label=\"along path variable\")\n",
    "axs[2].legend()"
   ]
  },
  {
   "cell_type": "code",
   "execution_count": 56,
   "metadata": {},
   "outputs": [
    {
     "data": {
      "image/png": "[encoded data removed]",
      "text/plain": [
       "<Figure size 432x288 with 4 Axes>"
      ]
     },
     "metadata": {
      "needs_background": "light"
     },
     "output_type": "display_data"
    }
   ],
   "source": [
    "from matplotlib import animation\n",
    "from IPython.display import HTML\n",
    "# First set up the figure, the axis, and the plot element we want to animate\n",
    "fig, axs = plt.subplots(2,2)\n",
    "\n",
    "realpos_line, = axs[0][0].plot([], [], lw=2,c=\"blue\",label=\"position\")\n",
    "predpos_line, = axs[0][0].plot([],[], lw=2, c=\"g\",marker=\"*\", label=\"predicted\")\n",
    "realspeed_line, = axs[0][1].plot([], [], lw=2, c=\"red\",label=\"speed\")\n",
    "predspeed_line, = axs[0][1].plot([],[], lw=2, c=\"g\",marker=\"*\", label=\"predicted\")\n",
    "axs[0][0].set_ylabel(\"position [m]\")\n",
    "axs[0][1].set_ylabel(\"speed [m/s]\")\n",
    "max_pos_line, = axs[0][0].plot([min(t_sim),max(t_sim)],[max_p,max_p],'k--')\n",
    "min_pos_line, = axs[0][0].plot([min(t_sim),max(t_sim)],[min_p,min_p],'k--')\n",
    "max_speed_line, = axs[0][1].plot([min(t_sim),max(t_sim)],[max_speed, max_speed],'k--')\n",
    "min_speed_line, = axs[0][1].plot([min(t_sim),max(t_sim)],[-max_speed, -max_speed],'k--')\n",
    "axs[0][1].set_xlabel(\"t [s]\")\n",
    "axs[0][0].legend()\n",
    "axs[0][1].legend()\n",
    "axs[0][0].set_ylim([min_p, max_p])\n",
    "axs[0][0].set_xlim([min(t_sim), max(t_sim)])\n",
    "\n",
    "realpathvar_line, = axs[1][0].plot([], [], lw=2, c=\"blue\", label=\"pathvar\")\n",
    "predpathvar_line, = axs[1][0].plot([], [], lw=2, c=\"g\", marker=\"*\", label=\"predicted\")\n",
    "realpathspeed_line, = axs[1][1].plot([], [], lw=2, c=\"red\", marker=\"*\", label=\"pathspeed\")\n",
    "predpathspeed_line, = axs[1][1].plot([], [], lw=2, c=\"g\", marker=\"*\", label=\"predicted\")\n",
    "axs[1][1].set_xlabel(\"t [s]\")\n",
    "axs[1][0].legend()\n",
    "axs[1][1].legend()\n",
    "axs[1][0].set_ylim([min(x_sim), max(x_sim)])\n",
    "axs[1][1].set_ylim([min_dx, max_dx])\n",
    "\n",
    "def init():\n",
    "    realpos_line.set_data([],[])\n",
    "    realspeed_line.set_data([],[])\n",
    "    predpos_line.set_data([],[])\n",
    "    predspeed_line.set_data([],[])\n",
    "    realpathvar_line.set_data([], [])\n",
    "    realpathspeed_line.set_data([], [])\n",
    "    predpathvar_line.set_data([], [])\n",
    "    predpathspeed_line.set_data([], [])\n",
    "    axs[0][0].set_title(\"Timestep:\"+str(i))\n",
    "    return [realpos_line, realspeed_line, predpos_line, predspeed_line,\n",
    "            realpathvar_line, realpathspeed_line, predpathvar_line, predpathspeed_line]\n",
    "\n",
    "def animate(i):\n",
    "    realpos_line.set_data(t_sim[:i], p_sim[:i])\n",
    "    realspeed_line.set_data(t_sim[:i],dp_sim[:i])\n",
    "    realpathvar_line.set_data(t_sim[:i], x_sim[:i])\n",
    "    realpathspeed_line.set_data(t_sim[:i], dx_sim[:i])\n",
    "    pred_time = [t_sim[i] + j*dt for j in range(mpcntrllr.horizon_length)]\n",
    "    predpos_line.set_data(pred_time, horizons_sim[i][0][1:])\n",
    "    predspeed_line.set_data(pred_time, horizons_sim[i][1])\n",
    "    predpathvar_line.set_data(pred_time, horizons_sim[i][2][1:])\n",
    "    predpathspeed_line.set_data(pred_time, horizons_sim[i][3])\n",
    "    # Growing limits\n",
    "    axs[0][0].set_xlim([min(t_sim), max(pred_time) + 5*dt])\n",
    "    axs[0][1].set_xlim([min(t_sim), max(pred_time) + 5*dt])\n",
    "    axs[1][0].set_xlim([min(t_sim), max(pred_time) + 5*dt])\n",
    "    axs[1][1].set_xlim([min(t_sim), max(pred_time) + 5*dt])\n",
    "    # Moving window limits\n",
    "    #axs[0][0].set_xlim([t_sim[i]-20*dt, t_sim[i]+(mpcntrllr.horizon_length+10)*dt])\n",
    "    #axs[0][1].set_xlim([t_sim[i]-20*dt, t_sim[i]+(mpcntrllr.horizon_length+10)*dt])\n",
    "    #axs[1][0].set_xlim([t_sim[i]-20*dt, t_sim[i]+(mpcntrllr.horizon_length+10)*dt])\n",
    "    #axs[1][1].set_xlim([t_sim[i]-20*dt, t_sim[i]+(mpcntrllr.horizon_length+10)*dt])\n",
    "    #axs[0][0].set_title(\"Timestep:\"+str(i))\n",
    "    return [realpos_line, realspeed_line, predpos_line, predspeed_line,\n",
    "            realpathvar_line, realpathspeed_line, predpathvar_line, predpathspeed_line]\n",
    "if SHOW_ANIMATIONS:\n",
    "    anim_path = animation.FuncAnimation(fig, animate, init_func=init,\n",
    "                                   frames=len(t_sim)-1, interval=int(2000*dt), blit=True)\n",
    "    html5_path = anim_path.to_html5_video()\n",
    "else:\n",
    "    html5_path = None"
   ]
  },
  {
   "cell_type": "code",
   "execution_count": 57,
   "metadata": {},
   "outputs": [
    {
     "data": {
      "text/plain": [
       "<IPython.core.display.HTML object>"
      ]
     },
     "execution_count": 57,
     "metadata": {},
     "output_type": "execute_result"
    }
   ],
   "source": [
    "HTML(html5_path)"
   ]
  },
  {
   "cell_type": "markdown",
   "metadata": {},
   "source": [
    "## Pseudo inverse approach\n",
    "As always, we have to change things a little."
   ]
  },
  {
   "cell_type": "code",
   "execution_count": 58,
   "metadata": {},
   "outputs": [
    {
     "name": "stdout",
     "output_type": "stream",
     "text": [
      "SkillSpecification: path_trajectory_skill\n",
      "#0: move_up_path_cnstr\n",
      "#1: cart_limit_cnstr\n",
      "#2: min_dist_cnstr\n",
      "N constraints: 3\n",
      "N equality:\n",
      "\tPos:2\tVel:0\n",
      "N set:\n",
      "\tPos:1\tVel:0\n"
     ]
    }
   ],
   "source": [
    "x = cs.MX.sym(\"x\") # virtual var\n",
    "dx = cs.MX.sym(\"dx\") # virtual vel var\n",
    "p_des = 0.4*cs.sin(0.3*x)  # Desired point\n",
    "\n",
    "# Setup the constraint for the virtual var to converge to a large number\n",
    "move_up_path = 300 - x\n",
    "move_up_path_cnstr = cc.EqualityConstraint(\n",
    "    label=\"move_up_path_cnstr\",\n",
    "    expression=move_up_path,\n",
    "    gain=1.0,\n",
    "    priority=1)\n",
    "\n",
    "# Setup the constraint to get there\n",
    "dist_to_path = p_des - p\n",
    "min_dist_cnstr = cc.EqualityConstraint(\n",
    "    label=\"min_dist_cnstr\", # Label for nice printing\n",
    "    expression=dist_to_path, # Expression to be minimized\n",
    "    gain=1.0, # Convergence gain\n",
    "    constraint_type=\"soft\", # The speed limit is hard, so this has to be soft to accommodate (sets whether to use slack)\n",
    "    priority=3) # Priority when using pseudo inverse approaches\n",
    "\n",
    "# Setup the cart length limits:\n",
    "point = p\n",
    "cart_limit_cnstr = cc.SetConstraint(\n",
    "    label=\"cart_limit_cnstr\",\n",
    "    expression=point,\n",
    "    gain=1.0,\n",
    "    set_min=min_p,\n",
    "    set_max=max_p,\n",
    "    priority=1)\n",
    "\n",
    "path_skill_pinv = cc.SkillSpecification(\n",
    "    label=\"path_trajectory_skill\", # Label for nice printing\n",
    "    time_var=t, # the time var\n",
    "    robot_var=p,\n",
    "    robot_vel_var=dp, \n",
    "    virtual_var=x,\n",
    "    virtual_vel_var=dx,\n",
    "    constraints=[move_up_path_cnstr,\n",
    "                 min_dist_cnstr, \n",
    "                 cart_limit_cnstr])\n",
    "path_skill_pinv.print_constraints() # Print some info about the constraints"
   ]
  },
  {
   "cell_type": "code",
   "execution_count": 59,
   "metadata": {},
   "outputs": [],
   "source": [
    "# Create the controller:\n",
    "pseudoinvcntrllr = cc.PseudoInverseController(\n",
    "    skill_spec=path_skill_pinv)\n",
    "pseudoinvcntrllr.setup_problem_functions() # Does nothing in pseudoinversecontroller, but yeah, we'll remove it later\n",
    "pseudoinvcntrllr.setup_solver() # Sets up everything"
   ]
  },
  {
   "cell_type": "code",
   "execution_count": 60,
   "metadata": {},
   "outputs": [],
   "source": [
    "# Simulate it!\n",
    "dt = 0.02\n",
    "t_sim = cs.np.array([dt*i for i in range(1200)])\n",
    "p_sim = cs.np.zeros(len(t_sim))\n",
    "p_sim[0] = 0.0001\n",
    "x_sim = cs.np.zeros(len(t_sim))\n",
    "des_p_sim = [cs.Function(\"des_p\",[x],[p_des])(t_sim[i]) for i in range(len(t_sim))]\n",
    "dp_sim = cs.np.zeros(len(t_sim))\n",
    "dx_sim = cs.np.zeros(len(t_sim))\n",
    "for i in range(len(t_sim)-1):\n",
    "    res = pseudoinvcntrllr.solve(t_sim[i], p_sim[i], x_sim[i])\n",
    "    dp_sim[i] = max(min(res[0].toarray(), max_speed), -max_speed)\n",
    "    dx_sim[i] = max(min(res[1].toarray(), max_dx), min_dx)\n",
    "    p_sim[i+1] = p_sim[i] + dp_sim[i]*dt\n",
    "    x_sim[i+1] = x_sim[i] + dx_sim[i]*dt"
   ]
  },
  {
   "cell_type": "code",
   "execution_count": 61,
   "metadata": {},
   "outputs": [
    {
     "data": {
      "text/plain": [
       "<matplotlib.legend.Legend at 0x7f8b47d1cdd8>"
      ]
     },
     "execution_count": 61,
     "metadata": {},
     "output_type": "execute_result"
    },
    {
     "data": {
      "image/png": "[encoded data removed]",
      "text/plain": [
       "<Figure size 432x288 with 3 Axes>"
      ]
     },
     "metadata": {
      "needs_background": "light"
     },
     "output_type": "display_data"
    }
   ],
   "source": [
    "fig, axs = plt.subplots(3,1)\n",
    "axs[0].plot(t_sim, p_sim, label=\"position\",lw=3)\n",
    "axs[0].plot([min(t_sim),max(t_sim)],[min_p,min_p],\"k--\")\n",
    "axs[0].plot([min(t_sim),max(t_sim)],[max_p,max_p],\"k--\")\n",
    "axs[0].plot(t_sim, des_p_sim,label=\"reference\",ls=\"--\")\n",
    "axs[0].set_ylabel(\"position [m]\")\n",
    "axs[1].plot(t_sim, dp_sim, label=\"desired speed\",c=\"r\")\n",
    "axs[1].plot([min(t_sim),max(t_sim)],[max_speed, max_speed],'k--')\n",
    "axs[1].plot([min(t_sim),max(t_sim)],[-max_speed, -max_speed],'k--')\n",
    "axs[1].set_xlabel(\"t [s]\")\n",
    "axs[0].legend()\n",
    "axs[1].legend()\n",
    "axs[2].plot(t_sim, x_sim, label=\"along path variable\")\n",
    "axs[2].legend()"
   ]
  }
 ],
 "metadata": {
  "kernelspec": {
   "display_name": "Python 3",
   "language": "python",
   "name": "python3"
  },
  "language_info": {
   "codemirror_mode": {
    "name": "ipython",
    "version": 3
   },
   "file_extension": ".py",
   "mimetype": "text/x-python",
   "name": "python",
   "nbconvert_exporter": "python",
   "pygments_lexer": "ipython3",
   "version": "3.5.2"
  }
 },
 "nbformat": 4,
 "nbformat_minor": 2
}

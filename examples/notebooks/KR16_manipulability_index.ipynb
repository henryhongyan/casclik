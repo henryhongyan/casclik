{
 "cells": [
  {
   "cell_type": "code",
   "execution_count": null,
   "metadata": {},
   "outputs": [],
   "source": [
    "# Our stuff:\n",
    "import casclik as cc\n",
    "import casadi as cs\n",
    "from urdf2casadi import converter, numpy_geom, casadi_geom\n",
    "\n",
    "# Plotting\n",
    "from matplotlib import pyplot as plt\n",
    "import common_plots\n",
    "import time"
   ]
  },
  {
   "cell_type": "code",
   "execution_count": null,
   "metadata": {},
   "outputs": [],
   "source": [
    "urdf_path = \"./urdf/lbr_iiwa_14_r820.urdf\"\n",
    "links = [\"base_link\",\n",
    "         \"base\", \n",
    "         \"link_1\", \n",
    "         \"link_2\", \n",
    "         \"link_3\", \n",
    "         \"link_4\", \n",
    "         \"link_5\", \n",
    "         \"link_6\",\n",
    "         \"link_7\",\n",
    "         \"tool0\"]\n",
    "fk_dict = converter.from_file(root=\"base_link\", tip=\"tool0\", filename=urdf_path)"
   ]
  },
  {
   "cell_type": "code",
   "execution_count": null,
   "metadata": {},
   "outputs": [],
   "source": [
    "# Setup time and robot_var\n",
    "t = cs.MX.sym(\"t\")\n",
    "q = cs.MX.sym(\"q\", len(fk_dict[\"joint_names\"]))\n",
    "dq = cs.MX.sym(\"dq\", len(fk_dict[\"joint_names\"]))\n",
    "# Functions for end-effector things (casadi functions of q)\n",
    "T_fk = fk_dict[\"T_fk\"]\n",
    "p_fk = cs.Function(\"p_fk\", [t, q], [T_fk(q)[:3, 3]])\n",
    "R_fk = cs.Function(\"R_fk\", [t, q], [T_fk(q)[:3, :3]])"
   ]
  },
  {
   "cell_type": "code",
   "execution_count": null,
   "metadata": {},
   "outputs": [],
   "source": [
    "# Test transformation matrix:\n",
    "T0 = T_fk([0]*len(fk_dict[\"joint_names\"]))\n",
    "print(\"Distance to zero pos with transformation matrices: \"+str(cs.norm_2(T0[:3,3])))\n",
    "print(\"p0:\"+str(T0[:3,3]))"
   ]
  },
  {
   "cell_type": "code",
   "execution_count": null,
   "metadata": {},
   "outputs": [],
   "source": [
    "# Check the joint limits from the URDF:\n",
    "q_max = cs.np.array(fk_dict[\"upper\"])\n",
    "q_min = cs.np.array(fk_dict[\"lower\"])\n",
    "print(\"q_min \"+str(q_min))\n",
    "print(\"q_max \"+str(q_max))\n",
    "\n",
    "# Define a reasonable max joint speed\n",
    "max_speed = cs.inf# cs.np.pi/5 # rad/s #cs.inf\n",
    "print(\"Max speed: \"+str(max_speed))\n",
    "\n",
    "# Let's pretend home (where we start) is such that we start in the box.\n",
    "iiwa_home = cs.np.array([-1.5, -1.6447247447521742, 1.4830607057020933, -0.9733457906220311, -0.6578997165707934, 0.0, 0.0])\n",
    "dt = 0.008"
   ]
  },
  {
   "cell_type": "code",
   "execution_count": null,
   "metadata": {},
   "outputs": [],
   "source": [
    "# Define the basic system limits\n",
    "# Uphold the joint constraints\n",
    "joint_limits_cnstr = cc.SetConstraint(\n",
    "    label=\"Joint_Limits\",\n",
    "    expression = q,\n",
    "    set_min = q_min,\n",
    "    set_max = q_max)\n",
    "\n",
    "# Let's have some speed limit\n",
    "joint_speed_limits_cnstr = cc.VelocitySetConstraint(\n",
    "    label=\"Joint_speed_limits\",\n",
    "    expression = q,\n",
    "    set_min = -cs.vertcat([max_speed]*q.size()[0]),\n",
    "    set_max = cs.vertcat([max_speed]*q.size()[0]))"
   ]
  },
  {
   "cell_type": "code",
   "execution_count": null,
   "metadata": {},
   "outputs": [],
   "source": [
    "# Desired trajectory\n",
    "omega=0.1\n",
    "circ_des = cs.vertcat(0.5*cs.cos(omega*t),\n",
    "                      0.5*cs.sin(omega*t),\n",
    "                      0.3)\n",
    "path_des = cs.vertcat(0.5*cs.sin(omega*t)*cs.sin(omega*t) + 0.2,\n",
    "                      0.5*cs.cos(omega*t)+0.25*cs.sin(omega*t),\n",
    "                      0.5*cs.sin(omega*t)*cs.cos(omega*t) + 0.1)#0.4)\n",
    "fpath_des = cs.Function(\"fpath_des\",[t],[path_des])"
   ]
  },
  {
   "cell_type": "code",
   "execution_count": null,
   "metadata": {},
   "outputs": [],
   "source": [
    "# Tracking trajectory\n",
    "path_cnstr = cc.EqualityConstraint(\n",
    "    label=\"move_point\",\n",
    "    expression=p_fk(t, q) - path_des,\n",
    "    priority=len(fk_dict[\"joint_names\"])+4,\n",
    "    constraint_type=\"soft\",\n",
    "    gain=0.15\n",
    ")\n",
    "path_cnstr.eval = cs.Function(\"path_eval\", [t,q], [cs.norm_2(path_cnstr.expression)])"
   ]
  },
  {
   "cell_type": "code",
   "execution_count": null,
   "metadata": {},
   "outputs": [],
   "source": [
    "circ_cnstr = cc.EqualityConstraint(\n",
    "    label=\"move_circ\",\n",
    "    expression=p_fk(t, q) - circ_des,\n",
    "    priority=len(fk_dict[\"joint_names\"])+4,\n",
    "    constraint_type=\"soft\",\n",
    "    gain=0.15\n",
    ")\n",
    "circ_cnstr.eval = cs.Function(\"circ_eval\",[t,q],[cs.norm_2(circ_cnstr.expression)])"
   ]
  },
  {
   "cell_type": "code",
   "execution_count": null,
   "metadata": {},
   "outputs": [],
   "source": [
    "skill_path = cc.SkillSpecification(\n",
    "    label=\"skill_path\",\n",
    "    time_var=t,\n",
    "    robot_var=q,\n",
    "    robot_vel_var=dq,\n",
    "    constraints=[path_cnstr, joint_limits_cnstr]\n",
    ")\n",
    "skill_circ = cc.SkillSpecification(\n",
    "    label=\"skill_circ\",\n",
    "    time_var=t,\n",
    "    robot_var=q,\n",
    "    robot_vel_var=dq,\n",
    "    constraints=[circ_cnstr, joint_limits_cnstr]\n",
    ")"
   ]
  },
  {
   "cell_type": "code",
   "execution_count": null,
   "metadata": {},
   "outputs": [],
   "source": [
    "# Manipulability\n",
    "J_p = cs.jacobian(p_fk(t,q+dt*dq), q)\n",
    "man = cs.mtimes(J_p,J_p.T)\n",
    "detman = man[0,0]*man[1,1]*man[2,2]+man[0,1]*man[1,2]*man[2,0]+man[0,2]*man[1,0]*man[2,1]\n",
    "detman += -man[0,2]*man[1,1]*man[2,0] -man[0,1]*man[1,0]*man[2,2] -man[0,0]*man[1,2]*man[2,1]\n",
    "manipulability_cost = -1e2*detman\n",
    "for i in range(6):\n",
    "    manipulability_cost += 1e1*q[i]*q[i]\n",
    "fmanipulability = cs.Function(\"fman\",[t,q,dq],[manipulability_cost])"
   ]
  },
  {
   "cell_type": "code",
   "execution_count": null,
   "metadata": {},
   "outputs": [],
   "source": [
    "# Let's test all the available controllers\n",
    "controller_classes = {\n",
    "    \"qp\":cc.ReactiveQPController, \n",
    "    \"nlp\":cc.ReactiveNLPController, \n",
    "    \"pinv\":cc.PseudoInverseController, \n",
    "    \"mpc\":cc.ModelPredictiveController\n",
    "}\n",
    "controllers = {}\n",
    "for key in controller_classes.keys():\n",
    "    controllers[key] = {}"
   ]
  },
  {
   "cell_type": "code",
   "execution_count": null,
   "metadata": {},
   "outputs": [],
   "source": [
    "skill_situations = {\n",
    "    \"path\":skill_path,\n",
    "    \"circ\":skill_circ\n",
    "}"
   ]
  },
  {
   "cell_type": "code",
   "execution_count": null,
   "metadata": {},
   "outputs": [],
   "source": [
    "# Compile all the controllers for each situation\n",
    "for sitn_key in skill_situations.keys():\n",
    "    print(\"Compiling skill: \"+str(sitn_key))\n",
    "    for key in controllers.keys():\n",
    "        t0 = time.time()\n",
    "        if key == \"pinv\":\n",
    "            controllers[key][sitn_key] = controller_classes[key](skill_spec=skill_situations[sitn_key],\n",
    "                                                                 options={\"multidim_sets\":True,\n",
    "                                                                          \"damping_factor\":1e-16})\n",
    "        elif key == \"mpc\":\n",
    "            controllers[key][sitn_key] = controller_classes[key](skill_spec=skill_situations[sitn_key],\n",
    "                                                                 cost_expr=cs.dot(dq,dq)+manipulability_cost,\n",
    "                                                                 horizon_length=5, timestep=dt)\n",
    "        elif key == \"nlp\":\n",
    "            controllers[key][sitn_key] = controller_classes[key](skill_spec=skill_situations[sitn_key],\n",
    "                                                                 cost_expr=cs.dot(dq,dq)+manipulability_cost)\n",
    "        else:\n",
    "            controllers[key][sitn_key] = controller_classes[key](skill_spec=skill_situations[sitn_key])\n",
    "        controllers[key][sitn_key].setup_problem_functions()\n",
    "        controllers[key][sitn_key].setup_solver()\n",
    "        print(\"\\t-\"+str(key)+\", compile time: \"+str(time.time()-t0))"
   ]
  },
  {
   "cell_type": "code",
   "execution_count": null,
   "metadata": {
    "scrolled": false
   },
   "outputs": [],
   "source": [
    "timesteps = 10000\n",
    "for cntr_key in controllers.keys():\n",
    "    print(\"Simulating controller: \"+str(cntr_key))\n",
    "    for sitn_key in skill_situations.keys():\n",
    "        print(\"\\t-\"+str(sitn_key))\n",
    "        print(\"\\t\\tSetting up initial value problem\")\n",
    "        controllers[cntr_key][sitn_key].setup_initial_problem_solver()\n",
    "        print(\"\\t\\tSolving initial value problem\")\n",
    "        slack_res = controllers[cntr_key][sitn_key].solve_initial_problem(0, iiwa_home)[-1]\n",
    "        t0 = time.time()\n",
    "        # Simulate it!\n",
    "        t_sim = cs.np.array([dt*i for i in range(timesteps+1)])\n",
    "        t_run_sim = cs.np.array([dt*i for i in range(timesteps)])\n",
    "        # Robot\n",
    "        q_sim = cs.np.zeros((len(t_sim),q.shape[0]))\n",
    "        q_sim[0,:] = iiwa_home\n",
    "        dq_sim = cs.np.zeros((len(t_sim),q.shape[0]))\n",
    "        # Cartesian position\n",
    "        p_sim = cs.np.zeros((len(t_sim), 3))\n",
    "        p_sim[0,:] = T_fk(iiwa_home)[:3,3].toarray()[:,0]\n",
    "        # Rotation\n",
    "        R_sim = cs.np.zeros((len(t_sim), 3, 3))\n",
    "        R_sim[0,:,:] = T_fk(iiwa_home)[:3,:3].toarray()\n",
    "        # Error in tracking\n",
    "        e_sim = cs.np.zeros(len(t_sim))\n",
    "        e_sim[0] = path_cnstr.eval(t_sim[0],q_sim[0,:])\n",
    "        # Controller mode\n",
    "        mode_sim = cs.np.zeros(len(t_sim))\n",
    "        # Manipulability\n",
    "        man_sim = cs.np.zeros(len(t_sim))\n",
    "        man_sim[0] = fmanipulability(0, iiwa_home, [0.]*dq.size()[0])\n",
    "        # Loop\n",
    "        for i in range(len(t_sim) - 1):\n",
    "            t_run0 = time.time()\n",
    "            res = controllers[cntr_key][sitn_key].solve(t_sim[i],q_sim[i,:],warmstart_slack_var=slack_res)\n",
    "            t_run_sim[i] = time.time() - t_run0\n",
    "            dq_sim[i,:] = res[0].toarray()[:,0]\n",
    "            if res[-1] is not None:\n",
    "                slack_res = res[-1].toarray()[:,0]\n",
    "            for idx, dqi in enumerate(dq_sim[i,:]):\n",
    "                dq_sim[i,idx] = max(min(dqi,max_speed),-max_speed)\n",
    "            q_sim[i+1,:] = q_sim[i,:] + dq_sim[i,:]*dt\n",
    "            p_sim[i+1,:] = T_fk(q_sim[i+1,:])[:3,3].toarray()[:,0]\n",
    "            R_sim[i+1,:,:] = T_fk(q_sim[i+1,:])[:3,:3].toarray()\n",
    "            e_sim[i+1] = path_cnstr.eval(t_sim[i],q_sim[i+1,:])\n",
    "            if cntr_key == \"pinv\":\n",
    "                mode_sim[i+1] = controllers[cntr_key][sitn_key].current_mode\n",
    "            man_sim[i+1] = fmanipulability(t_sim[i],q_sim[i,:],dq_sim[i,:])\n",
    "        controllers[cntr_key][str(sitn_key)+\"_res\"] = {\n",
    "            \"t_sim\":t_sim,\n",
    "            \"t_run_sim\": t_run_sim,\n",
    "            \"dq_sim\": dq_sim,\n",
    "            \"q_sim\": q_sim,\n",
    "            \"p_sim\": p_sim,\n",
    "            \"R_sim\": R_sim,\n",
    "            \"e_sim\": e_sim,\n",
    "            \"mode_sim\": mode_sim,\n",
    "            \"man_sim\": man_sim\n",
    "        }\n",
    "        print(\"\\t\\tRuntime: \"+str(time.time()-t0))"
   ]
  },
  {
   "cell_type": "code",
   "execution_count": null,
   "metadata": {},
   "outputs": [],
   "source": [
    "%matplotlib notebook\n",
    "fig, ax = plt.subplots()\n",
    "for name in controllers.keys():\n",
    "    ax.plot(controllers[name][\"path_res\"][\"t_sim\"],\n",
    "            controllers[name][\"path_res\"][\"e_sim\"],\n",
    "            label=name)\n",
    "ax.legend()\n",
    "ax.set_xlabel(\"t [s]\")\n",
    "ax.set_ylabel(\"tracking error [m]\")\n",
    "ax.set_title(\"path\")\n",
    "#ax.set_yscale(\"log\")"
   ]
  },
  {
   "cell_type": "code",
   "execution_count": null,
   "metadata": {},
   "outputs": [],
   "source": [
    "fig, ax = plt.subplots()\n",
    "for name in controllers.keys():\n",
    "    ax.plot(controllers[name][\"circ_res\"][\"t_sim\"],\n",
    "            controllers[name][\"circ_res\"][\"e_sim\"],\n",
    "            label=name)\n",
    "ax.legend()\n",
    "ax.set_xlabel(\"t [s]\")\n",
    "ax.set_ylabel(\"tracking error [m]\")\n",
    "ax.set_title(\"circ\")\n",
    "#ax.set_yscale(\"log\")"
   ]
  },
  {
   "cell_type": "code",
   "execution_count": null,
   "metadata": {
    "scrolled": false
   },
   "outputs": [],
   "source": [
    "ax=common_plots.pos_point_3d(controllers[\"qp\"][\"circ_res\"])\n",
    "ax.set_title(\"QP\")\n",
    "ax=common_plots.pos_point_3d(controllers[\"nlp\"][\"circ_res\"])\n",
    "ax.set_title(\"NLP\")\n",
    "ax=common_plots.pos_point_3d(controllers[\"mpc\"][\"circ_res\"])\n",
    "ax.set_title(\"MPC\")\n",
    "ax=common_plots.pos_point_3d(controllers[\"pinv\"][\"circ_res\"], p_des=fpath_des)\n",
    "ax.set_title(\"PINV\")"
   ]
  },
  {
   "cell_type": "code",
   "execution_count": null,
   "metadata": {},
   "outputs": [],
   "source": [
    "ax=common_plots.joints(controllers[\"qp\"][\"path_res\"])\n",
    "ax=common_plots.joints(controllers[\"pinv\"][\"path_res\"])"
   ]
  },
  {
   "cell_type": "code",
   "execution_count": null,
   "metadata": {},
   "outputs": [],
   "source": [
    "fig, ax = plt.subplots()\n",
    "ax.plot(controllers[\"pinv\"][\"path_res\"][\"t_sim\"],controllers[\"pinv\"][\"path_res\"][\"mode_sim\"])"
   ]
  },
  {
   "cell_type": "code",
   "execution_count": null,
   "metadata": {},
   "outputs": [],
   "source": [
    "fig, ax = plt.subplots()\n",
    "cmap = plt.get_cmap(\"tab10\")\n",
    "for i,key in enumerate(controller_classes.keys()):\n",
    "    ax.plot(controllers[key][\"path_res\"][\"t_sim\"],\n",
    "            controllers[key][\"path_res\"][\"man_sim\"], label=key, color=cmap(i))\n",
    "ax.legend()"
   ]
  },
  {
   "cell_type": "code",
   "execution_count": null,
   "metadata": {},
   "outputs": [],
   "source": [
    "fig, ax = plt.subplots()\n",
    "cmap = plt.get_cmap(\"tab10\")\n",
    "for i,key in enumerate(controller_classes.keys()):\n",
    "    ax.plot(controllers[key][\"circ_res\"][\"t_sim\"],\n",
    "            controllers[key][\"circ_res\"][\"man_sim\"], label=key, color=cmap(i))\n",
    "ax.legend()"
   ]
  },
  {
   "cell_type": "code",
   "execution_count": null,
   "metadata": {},
   "outputs": [],
   "source": [
    "def ms_format(t):\n",
    "    return\"{:.2f} ms\".format(1000.0*t)\n",
    "cntrllrs_tab = [\"pinv\",\"qp\",\"nlp\",\"mpc\"]\n",
    "tab_str = \"& PINV & QP & NLPC & MPC\\\\\\\\ \\n\\midrule\\n\"\n",
    "tab_str += \"Initial (path)\"\n",
    "for cntrl_key in cntrllrs_tab:\n",
    "    tab_str += \"& \"+ms_format(controllers[cntrl_key][\"path_res\"][\"t_run_sim\"][0])\n",
    "tab_str += \"\\\\\\\\\\n\"\n",
    "tab_str += \"Average (path)\"\n",
    "for cntrl_key in cntrllrs_tab:\n",
    "    tab_str += \"& \"+ms_format(cs.np.mean(controllers[cntrl_key][\"path_res\"][\"t_run_sim\"]))\n",
    "print(tab_str)"
   ]
  },
  {
   "cell_type": "code",
   "execution_count": null,
   "metadata": {},
   "outputs": [],
   "source": []
  }
 ],
 "metadata": {
  "kernelspec": {
   "display_name": "Python 2",
   "language": "python",
   "name": "python2"
  },
  "language_info": {
   "codemirror_mode": {
    "name": "ipython",
    "version": 2
   },
   "file_extension": ".py",
   "mimetype": "text/x-python",
   "name": "python",
   "nbconvert_exporter": "python",
   "pygments_lexer": "ipython2",
   "version": "2.7.12"
  }
 },
 "nbformat": 4,
 "nbformat_minor": 2
}

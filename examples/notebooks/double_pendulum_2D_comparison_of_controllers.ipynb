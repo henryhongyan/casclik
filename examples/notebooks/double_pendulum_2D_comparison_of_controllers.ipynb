{
 "cells": [
  {
   "cell_type": "code",
   "execution_count": 1,
   "metadata": {},
   "outputs": [],
   "source": [
    "import casclik as cc\n",
    "import casadi as cs\n",
    "from matplotlib import pyplot as plt\n",
    "%matplotlib inline\n",
    "\n",
    "# WARNING!\n",
    "# Animations take quite some time to create, and the code may stop for a couple of minutes at the animations\n",
    "SHOW_ANIMATIONS = False\n",
    "from matplotlib import animation\n",
    "from IPython.display import HTML"
   ]
  },
  {
   "cell_type": "markdown",
   "metadata": {},
   "source": [
    "# Simple 2D example: The double pendulum"
   ]
  },
  {
   "cell_type": "markdown",
   "metadata": {},
   "source": [
    "Here we will revisit that good ol' control problem: the double pendulum. In our minds it is the archetype of a robot arm, made with two links and two actuated revolute joints.\n",
    "\n",
    "We have $\\mathbf{q}=[q_1,q_2]^T\\in\\mathbb{R}^2$ as the joint angles, each link has a uniformly distributed mass: $M_1,M_2$, each link has a length: $l_1,l_2$ giving the Cartesian position of the end-effector such that:\n",
    "$$\n",
    "p_x = l_1\\cos(q_1) + l_2\\cos(q_1+q_2)\\\\\n",
    "p_y = l_1\\sin(q_1) + l_2\\sin(q_1+q_2)\n",
    "$$\n",
    "We assume that the motors on the joints are perfectly tuned (or just much faster than the update rate of the closed-loop inverse kinematics controller) such that the desired joint speed is the applied joint speed giving:\n",
    "$$\n",
    "q_1(t) = \\int_{\\tau=0}^{\\tau=t}\\dot{q}_1(\\tau)\\mathrm{d}\\tau\\\\\n",
    "q_2(t) = \\int_{\\tau=0}^{\\tau=t}\\dot{q}_2(\\tau)\\mathrm{d}\\tau\n",
    "$$\n",
    "and the control inputs are piecewise constant, with $t(k\\Delta_t) = t_k$ and $\\dot{q}(t_k)=\\dot{q}_k$, giving:\n",
    "$$\n",
    "q_{1,k} = \\sum_{i=0}^{i=k}\\dot{q}_{1,i}\\Delta_t\\\\\n",
    "q_{2,k} = \\sum_{i=0}^{i=k}\\dot{q}_{1,i}\\Delta_t\n",
    "$$\n",
    "\n",
    "In this example we'll be playing around with some more advanced cost functions, so let's define the dynamics as well:\n",
    "$$\n",
    "\\mathbf{M}(\\mathbf{q})\\ddot{\\mathbf{q}} + \\mathbf{C}(\\mathbf{q},\\dot{\\mathbf{q}})\\dot{\\mathbf{q}} + \\mathbf{G}(\\mathbf{q}) = \\mathbf{\\tau}\n",
    "$$\n",
    "where $\\mathbf{\\tau} = [\\tau_1,\\tau_2]^T$ are the torques, $\\mathbf{M}(\\mathbf{q})$ is the inertia matrix, $\\mathbf{C}(\\mathbf{q},\\dot{\\mathbf{q}})$ is the coriolis matrix, and $\\mathbf{G}(\\mathbf{q})$ is the gravity.\n",
    "\n",
    "Where:\n",
    "$$\n",
    "\\mathbf{M}(\\mathbf{q}) = \\begin{bmatrix}\n",
    "\\alpha + 2\\beta\\cos(q_2) & \\delta + \\beta\\cos(q_2)\\\\\n",
    "\\delta + \\beta\\cos(q_2) & \\delta\n",
    "\\end{bmatrix}\\\\\n",
    "\\mathbf{C}(\\mathbf{q},\\dot{\\mathbf{q}})=\\begin{bmatrix}\n",
    "-\\beta \\sin(q_2) & -\\beta \\sin(q_2)(\\dot{q}_1 + \\dot{q}_2)\\\\\n",
    "\\beta\\sin(q_2) & 0\n",
    "\\end{bmatrix}\\\\\n",
    "\\mathbf{G}(\\mathbf{q}) = \\begin{bmatrix}\n",
    "g_1\\cos(q_1) + g_2\\cos(q_1+q_2)\\\\\n",
    "g_2\\cos(q_1+q_2)\n",
    "\\end{bmatrix}\n",
    "$$\n",
    "with the parameters:\n",
    "$$\n",
    "\\alpha = \\frac{1}{3}m_1l_1^2 + \\frac{1}{3}m_2l_2^2 + m_2l_1^2\\\\\n",
    "\\beta = \\frac{1}{2}m_2l_2l_1\\\\\n",
    "\\delta = \\frac{1}{3}m_2l_2^2\\\\\n",
    "g_1 = g l_1 \\left(\\frac{m_1}{2} + m_2\\right)\\\\\n",
    "g_2 = \\frac{1}{2}g l_2 m_2\n",
    "$$\n",
    "\n",
    "So let's start defining our symbols and some numerics:"
   ]
  },
  {
   "cell_type": "code",
   "execution_count": 2,
   "metadata": {},
   "outputs": [],
   "source": [
    "# Numerics\n",
    "l_1 = 1.0 # m\n",
    "l_2 = 0.75 # m\n",
    "m_1 = 0.5 # kg\n",
    "m_2 = 0.3 # kg\n",
    "g = 9.81 # m s^{-2}, standard earth\n",
    "alpha = (m_1*l_1**2)/3.0 + (m_2*l_2**2)/3.0 + m_2*l_1**2\n",
    "beta = (m_2*l_2*l_1)/2.0\n",
    "delta = (m_2*l_2**2)/3.0\n",
    "g_1 = g*l_1*(m_1/2.0 + m_2)\n",
    "g_2 = g*l_2*m_2/2.0\n",
    "\n",
    "# Symbols\n",
    "t = cs.MX.sym(\"t\")\n",
    "q = cs.MX.sym(\"q\",2)\n",
    "dq = cs.MX.sym(\"dq\",2)"
   ]
  },
  {
   "cell_type": "code",
   "execution_count": 3,
   "metadata": {},
   "outputs": [],
   "source": [
    "# Then forward kinematics as a symbol:\n",
    "p_mid = cs.vertcat(l_1*cs.cos(q[0]),\n",
    "                   l_1*cs.sin(q[0]))\n",
    "\n",
    "p = cs.vertcat(l_1*cs.cos(q[0]) + l_2*cs.cos(q[0]+q[1]), \n",
    "               l_1*cs.sin(q[0]) + l_2*cs.sin(q[0]+q[1]))\n",
    "# Then forward kinematics as a function:\n",
    "fp_mid = cs.Function(\"fp_mid\", [q], [p_mid],\n",
    "                    [\"q\"], [\"p_mid\"])\n",
    "fp = cs.Function(\"fp\",[q],[p],\n",
    "                [\"q\"],[\"p\"]) # It's generally good to name the inputs and outputs. This makes it easier to read debugs."
   ]
  },
  {
   "cell_type": "code",
   "execution_count": 4,
   "metadata": {},
   "outputs": [],
   "source": [
    "# Then dynamic parameters:\n",
    "M_11 = alpha + 2*beta*cs.cos(q[1])\n",
    "M_12 = delta + beta*cs.cos(q[1])\n",
    "M_22 = delta\n",
    "M = cs.vertcat(cs.horzcat(M_11, M_12),\n",
    "               cs.horzcat(M_12, M_22))\n",
    "C_11 = -beta*cs.sin(q[1])\n",
    "C_12 = -beta*cs.sin(q[1])*(dq[0]+dq[1])\n",
    "C_21 = beta*cs.sin(q[1])\n",
    "C = cs.vertcat(cs.horzcat(C_11, C_12),\n",
    "               cs.horzcat(C_21, 0.0))\n",
    "\n",
    "G_1 = g_1*cs.cos(q[0]) + g_2*cs.cos(q[0]+q[1])\n",
    "G_2 = g_2*cs.cos(q[0]+q[1])\n",
    "G = cs.vertcat(G_1,\n",
    "               G_2)\n",
    "# Then dynamic parameters as functions:\n",
    "fM = cs.Function(\"fM\", [q], [M],\n",
    "                [\"q\"], [\"M\"])\n",
    "fC = cs.Function(\"fC\", [q,dq], [C],\n",
    "                [\"q\",\"dq\"], [\"C\"])\n",
    "fG = cs.Function(\"fG\", [q], [G],\n",
    "                [\"q\"], [\"G\"])"
   ]
  },
  {
   "cell_type": "markdown",
   "metadata": {},
   "source": [
    "## Defining a skill: Moving to a point\n",
    "We want to move to some $p_{des}$ (`p_des`). Let's say the robot is on a table and is not allowed to put the end-effector or the \"midpoint\" (first joint) through the table. Our motors can only move at 0.1 rad/s."
   ]
  },
  {
   "cell_type": "code",
   "execution_count": 5,
   "metadata": {},
   "outputs": [],
   "source": [
    "# Numerics for the skill:\n",
    "p_des = cs.vertcat(0.75, # m\n",
    "                   0.5)# m\n",
    "max_speed = 0.5 # rad/s\n",
    "table_height = -0.05 # m below the origin of the robot."
   ]
  },
  {
   "cell_type": "code",
   "execution_count": 6,
   "metadata": {},
   "outputs": [],
   "source": [
    "# Defining the constraint to get there:\n",
    "dist_error = p_des - p\n",
    "min_dist_cnstr = cc.EqualityConstraint(\n",
    "    label = \"min_dist_cnstr\",\n",
    "    expression = dist_error,\n",
    "    gain = 1.0,\n",
    "    constraint_type=\"soft\") # The speed limit is hard, so this must be soft, or the problem will be infeasible."
   ]
  },
  {
   "cell_type": "code",
   "execution_count": 7,
   "metadata": {},
   "outputs": [],
   "source": [
    "# Defining the constraint to limit the joint speeds:\n",
    "speed_limit_cnstr = cc.VelocitySetConstraint(\n",
    "    label = \"speed_limit_cnstr\",\n",
    "    expression = q,\n",
    "    set_min = -cs.vertcat(max_speed, max_speed),\n",
    "    set_max = cs.vertcat(max_speed, max_speed))"
   ]
  },
  {
   "cell_type": "code",
   "execution_count": 8,
   "metadata": {},
   "outputs": [],
   "source": [
    "# Defining the constraints to not hit the table with the joints:\n",
    "# \"Midpoint\":\n",
    "dist_table_midpoint = p_mid[1] - table_height\n",
    "table_midpoint_cnstr = cc.SetConstraint(\n",
    "    label = \"table_midpoint_cnstr\",\n",
    "    expression = dist_table_midpoint,\n",
    "    set_min = 0.0,\n",
    "    set_max = cs.inf)\n",
    "\n",
    "# \"Endpoint\":\n",
    "dist_table_endpoint = p[1] - table_height\n",
    "table_endpoint_cnstr = cc.SetConstraint(\n",
    "    label = \"table_endpoint_cnstr\",\n",
    "    expression = dist_table_endpoint,\n",
    "    set_min = 0.0,\n",
    "    set_max = cs.inf)"
   ]
  },
  {
   "cell_type": "code",
   "execution_count": 9,
   "metadata": {},
   "outputs": [
    {
     "name": "stdout",
     "output_type": "stream",
     "text": [
      "SkillSpecification: move_to_point_skill\n",
      "#0: min_dist_cnstr\n",
      "#1: speed_limit_cnstr\n",
      "#2: table_midpoint_cnstr\n",
      "#3: table_endpoint_cnstr\n",
      "N constraints: 4\n",
      "N equality:\n",
      "\tPos:1\tVel:0\n",
      "N set:\n",
      "\tPos:2\tVel:1\n"
     ]
    }
   ],
   "source": [
    "# Define the skill:\n",
    "point_skill = cc.SkillSpecification(\n",
    "    label = \"move_to_point_skill\",\n",
    "    time_var = t,\n",
    "    robot_var = q,\n",
    "    robot_vel_var = dq,\n",
    "    constraints = [min_dist_cnstr,\n",
    "                   speed_limit_cnstr,\n",
    "                   table_midpoint_cnstr,\n",
    "                   table_endpoint_cnstr])\n",
    "point_skill.print_constraints()"
   ]
  },
  {
   "cell_type": "markdown",
   "metadata": {},
   "source": [
    "Now, let's try to execute this with a few different controllers!"
   ]
  },
  {
   "cell_type": "markdown",
   "metadata": {},
   "source": [
    "### Reactive QP Approach"
   ]
  },
  {
   "cell_type": "code",
   "execution_count": 10,
   "metadata": {},
   "outputs": [],
   "source": [
    "# Define the controller\n",
    "qpcntrllr = cc.ReactiveQPController(\n",
    "    skill_spec = point_skill,\n",
    "    robot_var_weights = [1.0, 1.0])\n",
    "qpcntrllr.setup_problem_functions()\n",
    "qpcntrllr.setup_solver()"
   ]
  },
  {
   "cell_type": "code",
   "execution_count": 11,
   "metadata": {},
   "outputs": [
    {
     "name": "stdout",
     "output_type": "stream",
     "text": [
      "334 µs ± 9.98 µs per loop (mean ± std. dev. of 7 runs, 1000 loops each)\n"
     ]
    }
   ],
   "source": [
    "%%timeit # Let's check the timing with a random point in the range\n",
    "test_initial = 0.5*cs.np.pi*cs.vertcat(cs.np.random.rand(), cs.np.random.rand()) + 0.25*cs.np.pi\n",
    "qpcntrllr.solve(time_var=0.0, robot_var=test_initial)#cs.vertcat(0.1,0.1))"
   ]
  },
  {
   "cell_type": "code",
   "execution_count": 12,
   "metadata": {},
   "outputs": [],
   "source": [
    "# Simulate it!\n",
    "dt = 0.01\n",
    "t_sim = cs.np.array([dt*i for i in range(800)])\n",
    "# Robot\n",
    "q_sim = cs.np.zeros((len(t_sim),q.shape[0]))\n",
    "q_sim[0,:] = [cs.np.pi/2 - 1e-5, 0.0]\n",
    "dq_sim = cs.np.zeros((len(t_sim),dq.shape[0]))\n",
    "# Cartesian\n",
    "p_sim = cs.np.zeros((len(t_sim),p.shape[0]))\n",
    "p_mid_sim = cs.np.zeros((len(t_sim),p_mid.shape[0]))\n",
    "# Loop\n",
    "for i in range(len(t_sim) - 1):\n",
    "    dq_sim[i,:] = qpcntrllr.solve(t_sim[i], q_sim[i,:])[0].toarray()[:,0]\n",
    "    q_sim[i+1,:] = q_sim[i,:] + dq_sim[i,:]*dt\n",
    "    p_mid_sim[i+1,:] = fp_mid(q_sim[i+1,:]).toarray()[:,0]\n",
    "    p_sim[i+1,:] = fp(q_sim[i+1,:]).toarray()[:,0]"
   ]
  },
  {
   "cell_type": "code",
   "execution_count": 13,
   "metadata": {},
   "outputs": [],
   "source": [
    "# Let's package results for easier comparison of the controllers:\n",
    "sim_point_qp = {\"t_sim\": t_sim,\n",
    "                \"dq_sim\": dq_sim,\n",
    "                 \"q_sim\": q_sim,\n",
    "                 \"p_mid_sim\": p_mid_sim,\n",
    "                 \"p_sim\":p_sim}\n",
    "\n",
    "# And define some plot functions\n",
    "def plot_joints(simres, axs=None):\n",
    "    if axs is None:\n",
    "        fig, axs = plt.subplots(2,1)\n",
    "    axs[0].plot(simres[\"t_sim\"], simres[\"q_sim\"][:,0], label=\"q0\")\n",
    "    axs[0].plot(simres[\"t_sim\"], simres[\"q_sim\"][:,1], label=\"q1\")\n",
    "    axs[0].set_ylabel(\"position [rad]\")\n",
    "    axs[1].plot(simres[\"t_sim\"], simres[\"dq_sim\"][:,0], label=\"dq0\")\n",
    "    axs[1].plot(simres[\"t_sim\"], simres[\"dq_sim\"][:,1], label=\"dq1\")\n",
    "    axs[1].plot([min(simres[\"t_sim\"]),max(simres[\"t_sim\"])],[max_speed, max_speed],'k--')\n",
    "    axs[1].plot([min(simres[\"t_sim\"]),max(simres[\"t_sim\"])],[-max_speed, -max_speed],'k--')\n",
    "    axs[1].set_ylabel(\"speed [rad/s]\")\n",
    "    axs[1].set_xlabel(\"t [s]\")\n",
    "    axs[0].legend()\n",
    "    axs[1].legend()\n",
    "\n",
    "def plot_pos(simres, ax=None):\n",
    "    if ax is None:\n",
    "        fig, ax = plt.subplots(1,1)\n",
    "    ax.plot(simres[\"t_sim\"], simres[\"p_sim\"][:,0], label=\"p_x\",color=\"b\")\n",
    "    ax.plot(simres[\"t_sim\"], simres[\"p_sim\"][:,1], label=\"p_y\",color=\"g\")\n",
    "    ax.plot([min(simres[\"t_sim\"]), max(simres[\"t_sim\"])], [p_des[0], p_des[0]], label=\"p_des_x\", color=\"b\", ls=\"--\")\n",
    "    ax.plot([min(simres[\"t_sim\"]), max(simres[\"t_sim\"])], [p_des[1], p_des[1]], label=\"p_des_y\", color=\"g\", ls=\"--\")\n",
    "    ax.set_ylabel(\"position [m]\")\n",
    "    ax.set_xlabel(\"time [s]\")\n",
    "    ax.legend()\n",
    "\n",
    "def animate_pos(simres):\n",
    "    fig, ax = plt.subplots(1,1)\n",
    "    ax.plot([-(l_1+l_2), l_1+l_2], [table_height, table_height], color=\"k\",lw=3,label=\"table\")\n",
    "    line0, = ax.plot([],[],color=\"b\",marker=\"o\",lw=2,ls=\"-\")\n",
    "    line1, = ax.plot([],[],color=\"b\",marker=\"o\",lw=2,ls=\"-\")\n",
    "    ax.set_xlim([-1.1*(l_1+l_2), 1.1*(l_1+l_2)])\n",
    "    ax.set_ylim([-1.1*(l_1+l_2), 1.1*(l_1+l_2)])\n",
    "    def init():\n",
    "        line0.set_data([],[])\n",
    "        line1.set_data([],[])\n",
    "        return line0,line1\n",
    "    def animate(i):\n",
    "        ax.set_title(\"Iteration: \"+str(i)+\" Time: \"+str(dt*i))\n",
    "        line0.set_data([0, simres[\"p_mid_sim\"][i,0]], [0, simres[\"p_mid_sim\"][i,1]])\n",
    "        line1.set_data([simres[\"p_mid_sim\"][i,0], simres[\"p_sim\"][i,0]], [simres[\"p_mid_sim\"][i,1], simres[\"p_sim\"][i,1]])\n",
    "        return line0, line1\n",
    "    if SHOW_ANIMATIONS:\n",
    "        anim_pos = animation.FuncAnimation(fig, animate, init_func=init,\n",
    "                                       frames=len(t_sim)-1, interval=int(1000*dt), blit=True)\n",
    "        return anim_pos.to_html5_video()\n",
    "    else:\n",
    "        return None"
   ]
  },
  {
   "cell_type": "code",
   "execution_count": 14,
   "metadata": {},
   "outputs": [
    {
     "data": {
      "image/png": "[encoded data removed]",
      "text/plain": [
       "<Figure size 432x288 with 2 Axes>"
      ]
     },
     "metadata": {
      "needs_background": "light"
     },
     "output_type": "display_data"
    }
   ],
   "source": [
    "plot_joints(sim_point_qp)"
   ]
  },
  {
   "cell_type": "code",
   "execution_count": 15,
   "metadata": {},
   "outputs": [
    {
     "data": {
      "image/png": "[encoded data removed]",
      "text/plain": [
       "<Figure size 432x288 with 1 Axes>"
      ]
     },
     "metadata": {
      "needs_background": "light"
     },
     "output_type": "display_data"
    }
   ],
   "source": [
    "plot_pos(sim_point_qp)"
   ]
  },
  {
   "cell_type": "code",
   "execution_count": 16,
   "metadata": {},
   "outputs": [
    {
     "data": {
      "text/plain": [
       "<IPython.core.display.HTML object>"
      ]
     },
     "execution_count": 16,
     "metadata": {},
     "output_type": "execute_result"
    },
    {
     "data": {
      "image/png": "[encoded data removed]",
      "text/plain": [
       "<Figure size 432x288 with 1 Axes>"
      ]
     },
     "metadata": {
      "needs_background": "light"
     },
     "output_type": "display_data"
    }
   ],
   "source": [
    "HTML(animate_pos(sim_point_qp))"
   ]
  },
  {
   "cell_type": "markdown",
   "metadata": {},
   "source": [
    "### Reactive NLP Formulation\n",
    "Here our cost expression can be chosen however we want. So how about testing two different scenarios. The first is an energy based cost, where the cost is based on the actual kinetic energy of the manipulator:\n",
    "$$\n",
    "f_{\\text{cost}}(t) = \\int_{0}^t \\frac{1}{2}\\dot{\\mathbf{q}}^T\\mathbf{M}(\\mathbf{q})\\dot{\\mathbf{q}}\n",
    "$$"
   ]
  },
  {
   "cell_type": "code",
   "execution_count": 17,
   "metadata": {},
   "outputs": [],
   "source": [
    "# Define the controller\n",
    "energynlpcntrllr = cc.ReactiveNLPController(\n",
    "        skill_spec = point_skill,\n",
    "    cost_expr=0.5*cs.mtimes(cs.mtimes(dq.T,fM(q)),dq))\n",
    "energynlpcntrllr.setup_problem_functions()\n",
    "energynlpcntrllr.setup_solver()"
   ]
  },
  {
   "cell_type": "code",
   "execution_count": 18,
   "metadata": {},
   "outputs": [
    {
     "name": "stdout",
     "output_type": "stream",
     "text": [
      "\n",
      "******************************************************************************\n",
      "This program contains Ipopt, a library for large-scale nonlinear optimization.\n",
      " Ipopt is released as open source code under the Eclipse Public License (EPL).\n",
      "         For more information visit http://projects.coin-or.org/Ipopt\n",
      "******************************************************************************\n",
      "\n",
      "6.06 ms ± 563 µs per loop (mean ± std. dev. of 7 runs, 100 loops each)\n"
     ]
    }
   ],
   "source": [
    "%%timeit # Let's check the timing with a random point in the range\n",
    "test_initial = 0.5*cs.np.pi*cs.vertcat(cs.np.random.rand(), cs.np.random.rand()) + 0.25*cs.np.pi\n",
    "energynlpcntrllr.solve(time_var=0.0, robot_var=test_initial)#cs.vertcat(0.1,0.1))"
   ]
  },
  {
   "cell_type": "code",
   "execution_count": 19,
   "metadata": {},
   "outputs": [],
   "source": [
    "# Simulate it!\n",
    "dt = 0.01\n",
    "t_sim = cs.np.array([dt*i for i in range(800)])\n",
    "# Robot\n",
    "q_sim = cs.np.zeros((len(t_sim),q.shape[0]))\n",
    "q_sim[0,:] = [cs.np.pi/2 - 1e-5, 0.0]\n",
    "dq_sim = cs.np.zeros((len(t_sim),dq.shape[0]))\n",
    "# Cartesian\n",
    "p_sim = cs.np.zeros((len(t_sim),p.shape[0]))\n",
    "p_mid_sim = cs.np.zeros((len(t_sim),p_mid.shape[0]))\n",
    "# Loop\n",
    "for i in range(len(t_sim) - 1):\n",
    "    dq_sim[i,:] = energynlpcntrllr.solve(t_sim[i], q_sim[i,:])[0].toarray()[:,0]\n",
    "    q_sim[i+1,:] = q_sim[i,:] + dq_sim[i,:]*dt\n",
    "    p_mid_sim[i+1,:] = fp_mid(q_sim[i+1,:]).toarray()[:,0]\n",
    "    p_sim[i+1,:] = fp(q_sim[i+1,:]).toarray()[:,0]"
   ]
  },
  {
   "cell_type": "code",
   "execution_count": 20,
   "metadata": {},
   "outputs": [],
   "source": [
    "# Let's package results for easier comparison of the controllers:\n",
    "sim_point_energynlp = {\"t_sim\": t_sim,\n",
    "                       \"dq_sim\": dq_sim,\n",
    "                       \"q_sim\": q_sim,\n",
    "                       \"p_mid_sim\": p_mid_sim,\n",
    "                       \"p_sim\":p_sim}"
   ]
  },
  {
   "cell_type": "code",
   "execution_count": 21,
   "metadata": {},
   "outputs": [
    {
     "data": {
      "image/png": "[encoded data removed]",
      "text/plain": [
       "<Figure size 432x288 with 2 Axes>"
      ]
     },
     "metadata": {
      "needs_background": "light"
     },
     "output_type": "display_data"
    }
   ],
   "source": [
    "plot_joints(sim_point_energynlp)"
   ]
  },
  {
   "cell_type": "code",
   "execution_count": 22,
   "metadata": {},
   "outputs": [
    {
     "data": {
      "image/png": "[encoded data removed]",
      "text/plain": [
       "<Figure size 432x288 with 1 Axes>"
      ]
     },
     "metadata": {
      "needs_background": "light"
     },
     "output_type": "display_data"
    }
   ],
   "source": [
    "plot_pos(sim_point_energynlp)"
   ]
  },
  {
   "cell_type": "code",
   "execution_count": 23,
   "metadata": {},
   "outputs": [
    {
     "data": {
      "image/png": "[encoded data removed]",
      "text/plain": [
       "<Figure size 432x288 with 2 Axes>"
      ]
     },
     "metadata": {
      "needs_background": "light"
     },
     "output_type": "display_data"
    }
   ],
   "source": [
    "err_dict = {}\n",
    "for k in sim_point_qp.keys():\n",
    "    err_dict[k] = sim_point_qp[k] - sim_point_energynlp[k]\n",
    "err_dict[\"t_sim\"] = sim_point_qp[\"t_sim\"]\n",
    "plot_joints(err_dict)"
   ]
  },
  {
   "cell_type": "code",
   "execution_count": 24,
   "metadata": {},
   "outputs": [
    {
     "data": {
      "text/plain": [
       "<IPython.core.display.HTML object>"
      ]
     },
     "execution_count": 24,
     "metadata": {},
     "output_type": "execute_result"
    },
    {
     "data": {
      "image/png": "[encoded data removed]",
      "text/plain": [
       "<Figure size 432x288 with 1 Axes>"
      ]
     },
     "metadata": {
      "needs_background": "light"
     },
     "output_type": "display_data"
    }
   ],
   "source": [
    "HTML(animate_pos(sim_point_energynlp))"
   ]
  },
  {
   "cell_type": "markdown",
   "metadata": {},
   "source": [
    "## Defining a time-dependent skill: Moving to a trajectory\n",
    "In this case the $p_{des}$ is a trajectory: $p_{des}(t)$. Let's say a little circe in the workspace.\n",
    "$$\n",
    "p_{des}(t) = r_{circ}\\begin{bmatrix}\n",
    "\\cos(\\omega_{circ} t)\\\\\n",
    "\\sin(\\omega_{circ} t)\n",
    "\\end{bmatrix} + \\begin{bmatrix}\n",
    "o_{circ,x}\\\\\n",
    "o_{circ,y}\n",
    "\\end{bmatrix}\n",
    "$$"
   ]
  },
  {
   "cell_type": "code",
   "execution_count": 25,
   "metadata": {},
   "outputs": [],
   "source": [
    "# Numerics of the trajectory\n",
    "r_circ = 0.25\n",
    "omega_circ = 0.5\n",
    "o_circ_x = 1.0\n",
    "o_circ_y = 1.0\n",
    "# Trajectory symbol\n",
    "p_des_traj = r_circ*cs.vertcat(cs.cos(omega_circ*t), cs.sin(omega_circ*t)) + cs.vertcat(o_circ_x, o_circ_y)\n",
    "# Trajectory function\n",
    "fp_des_traj = cs.Function(\"p_des_traj\", [t], [p_des_traj])"
   ]
  },
  {
   "cell_type": "code",
   "execution_count": 26,
   "metadata": {},
   "outputs": [],
   "source": [
    "# Define the tracking constraint\n",
    "track_error = p_des_traj - p\n",
    "min_track_cnstr = cc.EqualityConstraint(\n",
    "    label = \"min_track_cnstr\",\n",
    "    expression = track_error,\n",
    "    gain = 1.0,\n",
    "    constraint_type=\"soft\") # The speed limit is hard, so this must be soft, or the problem will be infeasible."
   ]
  },
  {
   "cell_type": "code",
   "execution_count": 27,
   "metadata": {},
   "outputs": [
    {
     "name": "stdout",
     "output_type": "stream",
     "text": [
      "SkillSpecification: track_trajectory_skill\n",
      "#0: min_track_cnstr\n",
      "#1: speed_limit_cnstr\n",
      "#2: table_midpoint_cnstr\n",
      "#3: table_endpoint_cnstr\n",
      "N constraints: 4\n",
      "N equality:\n",
      "\tPos:1\tVel:0\n",
      "N set:\n",
      "\tPos:2\tVel:1\n"
     ]
    }
   ],
   "source": [
    "# Define the skill:\n",
    "track_skill = cc.SkillSpecification(\n",
    "    label = \"track_trajectory_skill\",\n",
    "    time_var = t,\n",
    "    robot_var = q,\n",
    "    robot_vel_var = dq,\n",
    "    constraints = [min_track_cnstr,\n",
    "                   speed_limit_cnstr,\n",
    "                   table_midpoint_cnstr,\n",
    "                   table_endpoint_cnstr])\n",
    "track_skill.print_constraints()"
   ]
  },
  {
   "cell_type": "markdown",
   "metadata": {},
   "source": [
    "### Reactive QP approach"
   ]
  },
  {
   "cell_type": "code",
   "execution_count": 28,
   "metadata": {},
   "outputs": [],
   "source": [
    "# Define the controller\n",
    "qpcntrllr = cc.ReactiveQPController(\n",
    "    skill_spec = track_skill,\n",
    "    robot_var_weights = [1.0, 1.0])\n",
    "qpcntrllr.setup_problem_functions()\n",
    "qpcntrllr.setup_solver()"
   ]
  },
  {
   "cell_type": "code",
   "execution_count": 29,
   "metadata": {},
   "outputs": [],
   "source": [
    "# Simulate it!\n",
    "dt = 0.01\n",
    "t_sim = cs.np.array([dt*i for i in range(2000)])\n",
    "# Robot\n",
    "q_sim = cs.np.zeros((len(t_sim),q.shape[0]))\n",
    "q_sim[0,:] = [cs.np.pi/2 - 1e-5, 0.0]\n",
    "dq_sim = cs.np.zeros((len(t_sim),dq.shape[0]))\n",
    "# Cartesian\n",
    "p_sim = cs.np.zeros((len(t_sim),p.shape[0]))\n",
    "p_mid_sim = cs.np.zeros((len(t_sim),p_mid.shape[0]))\n",
    "# Loop\n",
    "for i in range(len(t_sim) - 1):\n",
    "    dq_sim[i,:] = qpcntrllr.solve(t_sim[i], q_sim[i,:])[0].toarray()[:,0]\n",
    "    q_sim[i+1,:] = q_sim[i,:] + dq_sim[i,:]*dt\n",
    "    p_mid_sim[i+1,:] = fp_mid(q_sim[i+1,:]).toarray()[:,0]\n",
    "    p_sim[i+1,:] = fp(q_sim[i+1,:]).toarray()[:,0]"
   ]
  },
  {
   "cell_type": "code",
   "execution_count": 30,
   "metadata": {},
   "outputs": [],
   "source": [
    "# Let's package results for easier comparison of the controllers:\n",
    "sim_track_qp = {\"t_sim\": t_sim,\n",
    "                \"dq_sim\": dq_sim,\n",
    "                 \"q_sim\": q_sim,\n",
    "                 \"p_mid_sim\": p_mid_sim,\n",
    "                 \"p_sim\":p_sim}\n",
    "\n",
    "# Define a plot function for tracking\n",
    "def plot_track(simres, ax=None, trajectory_func=None):\n",
    "    if ax is None:\n",
    "        fig, ax = plt.subplots(1,1)\n",
    "    ax.plot(simres[\"t_sim\"], simres[\"p_sim\"][:,0], label=\"p_x\",color=\"b\")\n",
    "    ax.plot(simres[\"t_sim\"], simres[\"p_sim\"][:,1], label=\"p_y\",color=\"g\")\n",
    "    if trajectory_func is not None:\n",
    "        ax.plot(simres[\"t_sim\"], cs.np.array([trajectory_func(i).toarray()[:,0] for i in simres[\"t_sim\"]]), \"k--\")\n",
    "    ax.set_ylabel(\"position [m]\")\n",
    "    ax.set_xlabel(\"time [s]\")\n",
    "    ax.legend()\n",
    "def animate_track(simres, trajectory_func=None):\n",
    "    fig, ax = plt.subplots(1,1)\n",
    "    ax.plot([-(l_1+l_2), l_1+l_2], [table_height, table_height], color=\"k\",lw=3,label=\"table\")\n",
    "    line0, = ax.plot([],[],color=\"b\",marker=\"o\",lw=2,ls=\"-\")\n",
    "    line1, = ax.plot([],[],color=\"b\",marker=\"o\",lw=2,ls=\"-\")\n",
    "    if trajectory_func is not None:\n",
    "        ax.plot([trajectory_func(i).toarray()[0,0] for i in simres[\"t_sim\"]], \n",
    "                [trajectory_func(i).toarray()[1,0] for i in simres[\"t_sim\"]], \"k--\")\n",
    "    ax.set_xlim([-1.1*(l_1+l_2), 1.1*(l_1+l_2)])\n",
    "    ax.set_ylim([-1.1*(l_1+l_2), 1.1*(l_1+l_2)])\n",
    "    def init():\n",
    "        line0.set_data([],[])\n",
    "        line1.set_data([],[])\n",
    "        return line0,line1\n",
    "    def animate(i):\n",
    "        ax.set_title(\"Iteration: \"+str(i)+\" Time: \"+str(dt*i))\n",
    "        line0.set_data([0, simres[\"p_mid_sim\"][i,0]], [0, simres[\"p_mid_sim\"][i,1]])\n",
    "        line1.set_data([simres[\"p_mid_sim\"][i,0], simres[\"p_sim\"][i,0]], [simres[\"p_mid_sim\"][i,1], simres[\"p_sim\"][i,1]])\n",
    "        return line0, line1\n",
    "    if SHOW_ANIMATIONS:\n",
    "        anim_pos = animation.FuncAnimation(fig, animate, init_func=init,\n",
    "                                       frames=len(t_sim)-1, interval=int(1000*dt), blit=True)\n",
    "        return anim_pos.to_html5_video()\n",
    "    else:\n",
    "        return None"
   ]
  },
  {
   "cell_type": "code",
   "execution_count": 31,
   "metadata": {},
   "outputs": [
    {
     "data": {
      "image/png": "[encoded data removed]",
      "text/plain": [
       "<Figure size 432x288 with 1 Axes>"
      ]
     },
     "metadata": {
      "needs_background": "light"
     },
     "output_type": "display_data"
    }
   ],
   "source": [
    "plot_track(sim_track_qp, trajectory_func=fp_des_traj)"
   ]
  },
  {
   "cell_type": "code",
   "execution_count": 32,
   "metadata": {},
   "outputs": [
    {
     "data": {
      "text/plain": [
       "<IPython.core.display.HTML object>"
      ]
     },
     "execution_count": 32,
     "metadata": {},
     "output_type": "execute_result"
    },
    {
     "data": {
      "image/png": "[encoded data removed]",
      "text/plain": [
       "<Figure size 432x288 with 1 Axes>"
      ]
     },
     "metadata": {
      "needs_background": "light"
     },
     "output_type": "display_data"
    }
   ],
   "source": [
    "HTML(animate_track(sim_track_qp, trajectory_func=fp_des_traj))"
   ]
  },
  {
   "cell_type": "markdown",
   "metadata": {},
   "source": [
    "### Model predictive approach"
   ]
  },
  {
   "cell_type": "code",
   "execution_count": 33,
   "metadata": {},
   "outputs": [],
   "source": [
    "# Define the controller\n",
    "mpcntrllr = cc.ModelPredictiveController(\n",
    "    skill_spec = track_skill,\n",
    "    cost_expr = dq[0]*dq[0] + dq[1]*dq[1])\n",
    "mpcntrllr.setup_problem_functions()\n",
    "mpcntrllr.setup_solver()"
   ]
  },
  {
   "cell_type": "code",
   "execution_count": 34,
   "metadata": {},
   "outputs": [],
   "source": [
    "# Simulate it!\n",
    "dt = 0.01\n",
    "t_sim = cs.np.array([dt*i for i in range(2000)])\n",
    "# Robot\n",
    "q_sim = cs.np.zeros((len(t_sim),q.shape[0]))\n",
    "q_sim[0,:] = [cs.np.pi/2 - 1e-5, 0.0001]\n",
    "dq_sim = cs.np.zeros((len(t_sim),dq.shape[0]))\n",
    "# Cartesian\n",
    "p_sim = cs.np.zeros((len(t_sim),p.shape[0]))\n",
    "p_mid_sim = cs.np.zeros((len(t_sim),p_mid.shape[0]))\n",
    "# Loop\n",
    "for i in range(len(t_sim) - 1):\n",
    "    dq_sim[i,:] = mpcntrllr.solve(t_sim[i], q_sim[i,:])[0].toarray()[:,0]\n",
    "    q_sim[i+1,:] = q_sim[i,:] + dq_sim[i,:]*dt\n",
    "    p_mid_sim[i+1,:] = fp_mid(q_sim[i+1,:]).toarray()[:,0]\n",
    "    p_sim[i+1,:] = fp(q_sim[i+1,:]).toarray()[:,0]"
   ]
  },
  {
   "cell_type": "code",
   "execution_count": 35,
   "metadata": {},
   "outputs": [],
   "source": [
    "# Let's package results for easier comparison of the controllers:\n",
    "sim_track_mpc = {\"t_sim\": t_sim,\n",
    "                \"dq_sim\": dq_sim,\n",
    "                 \"q_sim\": q_sim,\n",
    "                 \"p_mid_sim\": p_mid_sim,\n",
    "                 \"p_sim\":p_sim}"
   ]
  },
  {
   "cell_type": "code",
   "execution_count": 36,
   "metadata": {},
   "outputs": [
    {
     "data": {
      "image/png": "[encoded data removed]",
      "text/plain": [
       "<Figure size 432x288 with 1 Axes>"
      ]
     },
     "metadata": {
      "needs_background": "light"
     },
     "output_type": "display_data"
    }
   ],
   "source": [
    "plot_track(sim_track_mpc, trajectory_func=fp_des_traj)"
   ]
  },
  {
   "cell_type": "code",
   "execution_count": 37,
   "metadata": {},
   "outputs": [
    {
     "data": {
      "text/plain": [
       "<IPython.core.display.HTML object>"
      ]
     },
     "execution_count": 37,
     "metadata": {},
     "output_type": "execute_result"
    },
    {
     "data": {
      "image/png": "[encoded data removed]",
      "text/plain": [
       "<Figure size 432x288 with 1 Axes>"
      ]
     },
     "metadata": {
      "needs_background": "light"
     },
     "output_type": "display_data"
    }
   ],
   "source": [
    "HTML(animate_track(sim_track_mpc, trajectory_func=fp_des_traj))"
   ]
  }
 ],
 "metadata": {
  "kernelspec": {
   "display_name": "Python 3",
   "language": "python",
   "name": "python3"
  },
  "language_info": {
   "codemirror_mode": {
    "name": "ipython",
    "version": 3
   },
   "file_extension": ".py",
   "mimetype": "text/x-python",
   "name": "python",
   "nbconvert_exporter": "python",
   "pygments_lexer": "ipython3",
   "version": "3.5.2"
  }
 },
 "nbformat": 4,
 "nbformat_minor": 2
}
